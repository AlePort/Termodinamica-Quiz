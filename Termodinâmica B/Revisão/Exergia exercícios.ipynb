{
 "cells": [
  {
   "cell_type": "code",
   "execution_count": 117,
   "metadata": {},
   "outputs": [],
   "source": [
    "from CoolProp import CoolProp as CP\n",
    "Estado = CP.State\n",
    "\n",
    "P = 0.25990 #kPa\n",
    "T_H2O = -10 + 273.15 #K\n",
    "P0 = 101.325 #kPa\n",
    "T0 = 20 + 273.15 #K"
   ]
  },
  {
   "cell_type": "markdown",
   "metadata": {},
   "source": [
    "# Definição de estados"
   ]
  },
  {
   "cell_type": "code",
   "execution_count": 118,
   "metadata": {},
   "outputs": [
    {
     "ename": "ValueError",
     "evalue": "For now, we don't support p [259.9 Pa] below ptriple [611.655 Pa] when T [263.15] is less than Tmin [273.16]",
     "output_type": "error",
     "traceback": [
      "\u001b[1;31m---------------------------------------------------------------------------\u001b[0m",
      "\u001b[1;31mValueError\u001b[0m                                Traceback (most recent call last)",
      "\u001b[1;32m<ipython-input-118-81a555766440>\u001b[0m in \u001b[0;36m<module>\u001b[1;34m\u001b[0m\n\u001b[0;32m      1\u001b[0m \u001b[1;31m#Estado da água:\u001b[0m\u001b[1;33m\u001b[0m\u001b[1;33m\u001b[0m\u001b[1;33m\u001b[0m\u001b[0m\n\u001b[0;32m      2\u001b[0m \u001b[1;33m\u001b[0m\u001b[0m\n\u001b[1;32m----> 3\u001b[1;33m \u001b[0mestado_H2O\u001b[0m \u001b[1;33m=\u001b[0m \u001b[0mCP\u001b[0m\u001b[1;33m.\u001b[0m\u001b[0mState\u001b[0m\u001b[1;33m(\u001b[0m\u001b[1;34m'water'\u001b[0m\u001b[1;33m,\u001b[0m \u001b[1;33m{\u001b[0m\u001b[1;34m'P'\u001b[0m \u001b[1;33m:\u001b[0m \u001b[0mP\u001b[0m\u001b[1;33m,\u001b[0m \u001b[1;34m'T'\u001b[0m \u001b[1;33m:\u001b[0m \u001b[0mT_H2O\u001b[0m\u001b[1;33m}\u001b[0m\u001b[1;33m)\u001b[0m\u001b[1;33m\u001b[0m\u001b[1;33m\u001b[0m\u001b[0m\n\u001b[0m\u001b[0;32m      4\u001b[0m \u001b[0mestado0\u001b[0m \u001b[1;33m=\u001b[0m \u001b[0mCP\u001b[0m\u001b[1;33m.\u001b[0m\u001b[0mState\u001b[0m\u001b[1;33m(\u001b[0m\u001b[1;34m'water'\u001b[0m\u001b[1;33m,\u001b[0m \u001b[1;33m{\u001b[0m\u001b[1;34m'P'\u001b[0m \u001b[1;33m:\u001b[0m \u001b[0mP0\u001b[0m\u001b[1;33m,\u001b[0m \u001b[1;34m'T'\u001b[0m \u001b[1;33m:\u001b[0m \u001b[0mT0\u001b[0m\u001b[1;33m}\u001b[0m\u001b[1;33m)\u001b[0m\u001b[1;33m\u001b[0m\u001b[1;33m\u001b[0m\u001b[0m\n\u001b[0;32m      5\u001b[0m \u001b[1;33m\u001b[0m\u001b[0m\n",
      "\u001b[1;32mCoolProp\\CoolProp.pyx\u001b[0m in \u001b[0;36mCoolProp.CoolProp.State.__init__\u001b[1;34m()\u001b[0m\n",
      "\u001b[1;32mCoolProp\\CoolProp.pyx\u001b[0m in \u001b[0;36mCoolProp.CoolProp.State.update\u001b[1;34m()\u001b[0m\n",
      "\u001b[1;32mCoolProp\\AbstractState.pyx\u001b[0m in \u001b[0;36mCoolProp.CoolProp.AbstractState.update\u001b[1;34m()\u001b[0m\n",
      "\u001b[1;31mValueError\u001b[0m: For now, we don't support p [259.9 Pa] below ptriple [611.655 Pa] when T [263.15] is less than Tmin [273.16]"
     ]
    }
   ],
   "source": [
    "#Estado da água:\n",
    "\n",
    "estado_H2O = CP.State('water', {'P' : P, 'T' : T_H2O})\n",
    "estado0 = CP.State('water', {'P' : P0, 'T' : T0})\n",
    "\n",
    "u0 = estado0.u\n",
    "u = estado_H2O.u\n",
    "\n",
    "v0 = 1 / estado0.rho\n",
    "v = 1 / estado_H2O.rho\n",
    "\n",
    "s0 = estado0.s\n",
    "s = estado_H2O.s"
   ]
  },
  {
   "cell_type": "markdown",
   "metadata": {},
   "source": [
    "# Encontrando a exergia do sistema"
   ]
  },
  {
   "cell_type": "code",
   "execution_count": 116,
   "metadata": {},
   "outputs": [
    {
     "name": "stdout",
     "output_type": "stream",
     "text": [
      "u0 83.90579386387688 kJ/kg\n",
      "u = 2389.2282528201017 kJ/kg\n",
      "v0 = 0.0010017960696146397 m³/kg\n",
      "v = 502.71276159950196 m³/kg\n",
      "s0 = 0.2964628362251799 kJ/kg\n",
      "s = 9.618566074029568 kJ/kg\n",
      "\n",
      "A exergia do sistema é 252549.08478438327 kJ\n"
     ]
    }
   ],
   "source": [
    "X = m * ((u - u0) + P0 * (v - v0) - T0 * (s - s0))\n",
    "\n",
    "print('u0 {} kJ/kg'.format(u0))\n",
    "print('u = {} kJ/kg'.format(u))\n",
    "print('v0 = {} m³/kg'.format(v0))\n",
    "print('v = {} m³/kg'.format(v))\n",
    "print('s0 = {} kJ/kg'.format(s0))\n",
    "print('s = {} kJ/kg'.format(s))\n",
    "\n",
    "print('\\nA exergia do sistema é {} kJ'.format(X))"
   ]
  },
  {
   "cell_type": "code",
   "execution_count": null,
   "metadata": {},
   "outputs": [],
   "source": []
  }
 ],
 "metadata": {
  "kernelspec": {
   "display_name": "Python 3",
   "language": "python",
   "name": "python3"
  },
  "language_info": {
   "codemirror_mode": {
    "name": "ipython",
    "version": 3
   },
   "file_extension": ".py",
   "mimetype": "text/x-python",
   "name": "python",
   "nbconvert_exporter": "python",
   "pygments_lexer": "ipython3",
   "version": "3.7.1"
  }
 },
 "nbformat": 4,
 "nbformat_minor": 2
}
