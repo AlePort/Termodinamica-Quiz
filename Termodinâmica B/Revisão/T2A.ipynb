{
 "cells": [
  {
   "attachments": {},
   "cell_type": "markdown",
   "metadata": {},
   "source": [
    "Um ciclo motor alternativo é modelado por um sistema pistão-cilindro fechado preenchido por 2.7g de um gás ideal (o sistema) com R = 0.18892kJ/kg·K e calores específicos constantes. Inicialmente, no PMI, o volume do sistema é de 0.5ℓ e sua temperatura é de 45°C. O sistema sofre uma compressão adiabática de razão volumétrica 13:1---no qual o volume final (mínimo) é 13 vezes menor que o inicial---em um processo politrópico com expoente 1.11. O sistema então sofre uma expansão enquanto recebe calor até que seu volume triplique em relação ao volume mínimo, em um processo de expoente politrópico igual a -0.45. Finalmente, o sistema expande adiabaticamente até o volume inicial do PMI e a exaustão é modelada por uma retirada instantânea de calor que faz com que o sistema retorne ao seu estado inicial."
   ]
  },
  {
   "cell_type": "markdown",
   "metadata": {},
   "source": [
    "# Dados de entrada:"
   ]
  },
  {
   "cell_type": "code",
   "execution_count": 34,
   "metadata": {},
   "outputs": [
    {
     "name": "stdout",
     "output_type": "stream",
     "text": [
      "1.717454545454544\n",
      "1.906374545454544\n"
     ]
    }
   ],
   "source": [
    "m = 0.0027 #kg\n",
    "R = 0.18892 #kJ/kg*K\n",
    "r = 13\n",
    "\n",
    "V1 = 0.000125 #m³\n",
    "T1 = 45 + 273.15 #K\n",
    "n12 = 1.11\n",
    "V2 = V1/r\n",
    "n23 = -0.45\n",
    "V3 = 3*V2\n",
    "V4 = V1\n",
    "\n",
    "cv = R/(n12 - 1)\n",
    "cp = cv + R\n",
    "\n",
    "print(cv)\n",
    "print(cp)"
   ]
  },
  {
   "cell_type": "markdown",
   "metadata": {},
   "source": [
    "# Resolução:"
   ]
  },
  {
   "cell_type": "code",
   "execution_count": 35,
   "metadata": {},
   "outputs": [
    {
     "name": "stdout",
     "output_type": "stream",
     "text": [
      "0.046296296296296294\n",
      "1298.2657968\n",
      "318.15\n"
     ]
    }
   ],
   "source": [
    "# Estado 1:\n",
    "\n",
    "v1 = V1/m\n",
    "P1 = R*T1/v1\n",
    "\n",
    "print(v1)\n",
    "print(P1)\n",
    "print(T1)"
   ]
  },
  {
   "cell_type": "code",
   "execution_count": 36,
   "metadata": {},
   "outputs": [
    {
     "name": "stdout",
     "output_type": "stream",
     "text": [
      "0.003561253561253561\n",
      "22379.003112512964\n",
      "421.85742394527483\n"
     ]
    }
   ],
   "source": [
    "# Estado 2:\n",
    "\n",
    "v2 = v1/r\n",
    "P2 = P1*(v1/v2)**n12\n",
    "T2 = P2*v2/R\n",
    "\n",
    "print(v2)\n",
    "print(P2)\n",
    "print(T2)"
   ]
  },
  {
   "cell_type": "code",
   "execution_count": 37,
   "metadata": {},
   "outputs": [
    {
     "name": "stdout",
     "output_type": "stream",
     "text": [
      "0.010683760683760682\n",
      "36689.79636183126\n",
      "2074.8729825625583\n"
     ]
    }
   ],
   "source": [
    "# Estado 3:\n",
    "\n",
    "v3 = 3*v2\n",
    "P3 = P2*(v2/v3)**n23\n",
    "T3 = P3*v3/R\n",
    "\n",
    "print(v3)\n",
    "print(P3)\n",
    "print(T3)"
   ]
  },
  {
   "cell_type": "code",
   "execution_count": 38,
   "metadata": {},
   "outputs": [
    {
     "name": "stdout",
     "output_type": "stream",
     "text": [
      "0.046296296296296294\n",
      "4395.094408765302\n",
      "93.97824593441548\n"
     ]
    }
   ],
   "source": [
    "# Estado 4:\n",
    "\n",
    "v4 = v1\n",
    "P4 = P2*(v3/v4)**n12\n",
    "T4 = P1*T1/P4\n",
    "\n",
    "print(v4)\n",
    "print(P4)\n",
    "print(T4)"
   ]
  },
  {
   "cell_type": "markdown",
   "metadata": {},
   "source": [
    "# a)"
   ]
  },
  {
   "cell_type": "code",
   "execution_count": 39,
   "metadata": {},
   "outputs": [
    {
     "name": "stdout",
     "output_type": "stream",
     "text": [
      "3054.3499119812163\n"
     ]
    }
   ],
   "source": [
    "q = cv*(T3-T2) + (P3*v3 - P2*v2)/(1-n23)\n",
    "\n",
    "print(q)"
   ]
  },
  {
   "cell_type": "markdown",
   "metadata": {},
   "source": [
    "# b)"
   ]
  },
  {
   "cell_type": "code",
   "execution_count": 40,
   "metadata": {},
   "outputs": [
    {
     "name": "stdout",
     "output_type": "stream",
     "text": [
      "-406344.5575184172\n"
     ]
    }
   ],
   "source": [
    "w12 = (P2*2 - P1*v1)/(1-n12)\n",
    "\n",
    "print(w12)"
   ]
  }
 ],
 "metadata": {
  "kernelspec": {
   "display_name": "Python 3",
   "language": "python",
   "name": "python3"
  },
  "language_info": {
   "codemirror_mode": {
    "name": "ipython",
    "version": 3
   },
   "file_extension": ".py",
   "mimetype": "text/x-python",
   "name": "python",
   "nbconvert_exporter": "python",
   "pygments_lexer": "ipython3",
   "version": "3.7.1"
  }
 },
 "nbformat": 4,
 "nbformat_minor": 2
}
