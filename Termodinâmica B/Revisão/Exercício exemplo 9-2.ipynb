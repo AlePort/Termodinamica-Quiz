{
 "cells": [
  {
   "cell_type": "markdown",
   "metadata": {},
   "source": [
    "# Ciclo Otto ideal"
   ]
  },
  {
   "cell_type": "markdown",
   "metadata": {},
   "source": [
    "Um ciclo Otto ideal tem uma razão de compressão igual a 8. No início do processo de compressão, o ar está a 100 kPa e 17 °C, e 800 kJ/kg de calor são transferidos para o ar durante o processo de fornecimento de calor a volume constante. Consi- derando a variação dos calores específicos do ar com a temperatura, determine:\n",
    "\n",
    "a) a temperatura e a pressão máximas que ocorrem durante o ciclo\n",
    "b) o trabalho líquido produzido\n",
    "c) a eficiência térmica\n",
    "d) a pressão média eficaz do ciclo."
   ]
  },
  {
   "cell_type": "code",
   "execution_count": 1,
   "metadata": {},
   "outputs": [],
   "source": [
    "from CoolProp import CoolProp as CP\n",
    "State = CP.State"
   ]
  },
  {
   "cell_type": "markdown",
   "metadata": {},
   "source": [
    "# Dados de entrada"
   ]
  },
  {
   "cell_type": "code",
   "execution_count": 2,
   "metadata": {},
   "outputs": [],
   "source": [
    "k = 1.4\n",
    "r = 8 #v1/v2\n",
    "T1 = 17 + 273.15 #K\n",
    "P1 = 100 #kPa\n",
    "qin = 800 #kJ/kg\n",
    "Tmax = 0"
   ]
  },
  {
   "cell_type": "markdown",
   "metadata": {},
   "source": [
    "# Resolução"
   ]
  },
  {
   "cell_type": "code",
   "execution_count": 3,
   "metadata": {},
   "outputs": [
    {
     "name": "stdout",
     "output_type": "stream",
     "text": [
      "a)\n",
      "\n",
      "A maior temperatura é a de T3 = 1691.4328349105613\n"
     ]
    }
   ],
   "source": [
    "estado1 = State('Air', {'P': P1, 'T': T1})\n",
    "cv1 = estado1.cv\n",
    "v1 = 1/estado1.rho\n",
    "u1 = estado1.u\n",
    "v2 = v1/8\n",
    "T2 = T1 * r**(k-1)\n",
    "\n",
    "estado2 = State('Air', {'T': T2, 'D': 1/v2})\n",
    "cv2 = estado2.cv\n",
    "P2 = estado2.p\n",
    "\n",
    "T3 = qin/cv2 + T2\n",
    "v3 = v2\n",
    "\n",
    "estado3 = State('Air', {'T': T3, 'D': 1/v3})\n",
    "P3 = estado3.p\n",
    "u3 = estado3.u\n",
    "\n",
    "T4 = T3/(r**(k-1))\n",
    "v4 = v1\n",
    "\n",
    "estado4 = State('Air', {'T': T4, 'D': 1/v4})\n",
    "P4 = estado4.p\n",
    "u4 = estado4.u\n",
    "\n",
    "T = [T1, T2, T3, T4]\n",
    "\n",
    "for i in range(0,3):\n",
    "    Tt = T[i]\n",
    "    if Tmax <= Tt:\n",
    "        Tmax = Tt\n",
    "        \n",
    "print('a)\\n')        \n",
    "print('A maior temperatura é a de T{} = {}'.format(i+1, Tmax))    "
   ]
  },
  {
   "cell_type": "code",
   "execution_count": 4,
   "metadata": {},
   "outputs": [
    {
     "name": "stdout",
     "output_type": "stream",
     "text": [
      "b)\n",
      "\n",
      "O trabalho líquido durante o ciclo é de: 465.80446476842906\n"
     ]
    }
   ],
   "source": [
    "qout = u4 - u1\n",
    "w = qin - qout\n",
    "\n",
    "print('b)\\n\\nO trabalho líquido durante o ciclo é de:', w)"
   ]
  },
  {
   "cell_type": "code",
   "execution_count": 5,
   "metadata": {},
   "outputs": [
    {
     "name": "stdout",
     "output_type": "stream",
     "text": [
      "c)\n",
      "\n",
      "A eficiência é de: 0.5822555809605363\n",
      "A eficiência no padrão Otto é de: 0.5647247183519379\n"
     ]
    }
   ],
   "source": [
    "n_otto = 1 - 1/r**(k-1)\n",
    "\n",
    "n = w/qin\n",
    "\n",
    "print('c)\\n')\n",
    "print('A eficiência é de:', n)\n",
    "print('A eficiência no padrão Otto é de:', n_otto)"
   ]
  },
  {
   "cell_type": "code",
   "execution_count": 6,
   "metadata": {},
   "outputs": [
    {
     "name": "stdout",
     "output_type": "stream",
     "text": [
      "d)\n",
      "\n",
      "O PME é de: 639.4269210211\n"
     ]
    }
   ],
   "source": [
    "PME = w/(v1 - v2)\n",
    "\n",
    "print('d)\\n')\n",
    "print('O PME é de:', PME)"
   ]
  }
 ],
 "metadata": {
  "kernelspec": {
   "display_name": "Python 3",
   "language": "python",
   "name": "python3"
  },
  "language_info": {
   "codemirror_mode": {
    "name": "ipython",
    "version": 3
   },
   "file_extension": ".py",
   "mimetype": "text/x-python",
   "name": "python",
   "nbconvert_exporter": "python",
   "pygments_lexer": "ipython3",
   "version": "3.7.1"
  }
 },
 "nbformat": 4,
 "nbformat_minor": 2
}
