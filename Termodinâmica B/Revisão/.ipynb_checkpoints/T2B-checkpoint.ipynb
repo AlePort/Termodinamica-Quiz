{
 "cells": [
  {
   "cell_type": "markdown",
   "metadata": {},
   "source": [
    "# Ciclo Otto\n",
    "\n",
    "Um ciclo Otto opera com adição específica de calor de 1060kJ/kg e razão de compressão de 7:1 e admite CO2 a 310K e 100kPa. Determine, considerando a variação dos calores específicos:\n",
    "\n",
    "a) A temperatura do CO2 no final do processo de compressão, em K?\n",
    "\n",
    "b) A pressão do CO2 no final do processo de compressão, em kPa?\n",
    "\n",
    "c) A eficiência térmica do ciclo, em %?\n",
    "\n",
    "d) A saída de trabalho específico líquido por ciclo, em kJ/kg?\n",
    "\n",
    "e) A pressão média efetiva, em kPa?"
   ]
  },
  {
   "cell_type": "markdown",
   "metadata": {},
   "source": [
    "# Dados de Entrada:"
   ]
  },
  {
   "cell_type": "code",
   "execution_count": 2,
   "metadata": {},
   "outputs": [],
   "source": [
    "from CoolProp import CoolProp as CP\n",
    "State = CP.State\n",
    "\n",
    "qin = 1060 #kJ/kg\n",
    "r = 7\n",
    "\n",
    "fl = 'CO2'\n",
    "T1 = 310 #K\n",
    "P1 = 100 #kPa"
   ]
  },
  {
   "cell_type": "code",
   "execution_count": 3,
   "metadata": {},
   "outputs": [
    {
     "name": "stdout",
     "output_type": "stream",
     "text": [
      "310\n",
      "100\n",
      "0.5831027246204562\n",
      "2.772702911793456\n"
     ]
    }
   ],
   "source": [
    "# Estado 1:\n",
    "\n",
    "estado1 = State(fl, {'T': T1, 'P': P1})\n",
    "v1 = 1/estado1.rho\n",
    "s1 = estado1.s\n",
    "u1 = estado1.u\n",
    "\n",
    "print(T1)\n",
    "print(P1)\n",
    "print(v1)\n",
    "print(s1)"
   ]
  },
  {
   "cell_type": "code",
   "execution_count": 4,
   "metadata": {},
   "outputs": [
    {
     "name": "stdout",
     "output_type": "stream",
     "text": [
      "508.65641655929943\n",
      "1144.7536442496917\n",
      "0.08330038923149374\n"
     ]
    }
   ],
   "source": [
    "# Estado 2:\n",
    "\n",
    "s2 = s1\n",
    "v2 = v1/r\n",
    "\n",
    "estado2 = State(fl, {'S': s2,'D': 1/v2})\n",
    "T2 = estado2.T\n",
    "P2 = estado2.p\n",
    "cv2 = estado2.cv\n",
    "u2 = estado2.u\n",
    "\n",
    "print(T2)\n",
    "print(P2)\n",
    "print(v2)"
   ]
  },
  {
   "cell_type": "code",
   "execution_count": 5,
   "metadata": {},
   "outputs": [
    {
     "name": "stdout",
     "output_type": "stream",
     "text": [
      "1536.4933605395408\n",
      "3513.002606725537\n",
      "0.08330038923149374\n",
      "3.881753326527922\n"
     ]
    }
   ],
   "source": [
    "# Estado 3:\n",
    "\n",
    "v3 = v2\n",
    "u3 = u2 + qin\n",
    "\n",
    "estado3 = State(fl, {'D': 1/v3, 'U': u3})\n",
    "P3 = estado3.p\n",
    "s3 = estado3.s\n",
    "T3 = estado3.T\n",
    "\n",
    "print(T3)\n",
    "print(P3)\n",
    "print(v3)\n",
    "print(s3)"
   ]
  },
  {
   "cell_type": "code",
   "execution_count": 6,
   "metadata": {},
   "outputs": [
    {
     "name": "stdout",
     "output_type": "stream",
     "text": [
      "1100.447983734412\n",
      "356.8219632865568\n",
      "0.5831027246204562\n",
      "3.881753326527922\n"
     ]
    }
   ],
   "source": [
    "# Estado 4:\n",
    "\n",
    "s4 = s3\n",
    "v4 = v1\n",
    "\n",
    "estado4 = State(fl, {'S': s4, 'D':1/v4})\n",
    "T4 = estado4.T\n",
    "P4 = estado4.p\n",
    "cv4 = estado4.cv\n",
    "u4 = estado4.u\n",
    "\n",
    "print(T4)\n",
    "print(P4)\n",
    "print(v4)\n",
    "print(s4)"
   ]
  },
  {
   "cell_type": "markdown",
   "metadata": {},
   "source": [
    "# Resolução:"
   ]
  },
  {
   "cell_type": "markdown",
   "metadata": {},
   "source": [
    "#### a) A temperatura do CO2 no final do processo de compressão, em K"
   ]
  },
  {
   "cell_type": "code",
   "execution_count": 7,
   "metadata": {},
   "outputs": [
    {
     "name": "stdout",
     "output_type": "stream",
     "text": [
      "508.65641655929943\n"
     ]
    }
   ],
   "source": [
    "print(T2)"
   ]
  },
  {
   "cell_type": "markdown",
   "metadata": {},
   "source": [
    "#### b) A pressão do CO2 no final do processo de compressão, em kPa"
   ]
  },
  {
   "cell_type": "code",
   "execution_count": 8,
   "metadata": {},
   "outputs": [
    {
     "name": "stdout",
     "output_type": "stream",
     "text": [
      "1144.7536442496917\n"
     ]
    }
   ],
   "source": [
    "print(P2)"
   ]
  },
  {
   "cell_type": "markdown",
   "metadata": {},
   "source": [
    "#### c) A eficiência térmica do ciclo, em %"
   ]
  },
  {
   "cell_type": "code",
   "execution_count": 9,
   "metadata": {},
   "outputs": [
    {
     "name": "stdout",
     "output_type": "stream",
     "text": [
      "31.585417388650537\n"
     ]
    }
   ],
   "source": [
    "qout = u4 - u1\n",
    "\n",
    "n = 1 - qout/qin\n",
    "\n",
    "print(n*100)"
   ]
  },
  {
   "cell_type": "markdown",
   "metadata": {},
   "source": [
    "#### d) A saída de trabalho específico líquido por ciclo, em kJ/kg"
   ]
  },
  {
   "cell_type": "code",
   "execution_count": 10,
   "metadata": {},
   "outputs": [
    {
     "name": "stdout",
     "output_type": "stream",
     "text": [
      "334.8054243196957\n"
     ]
    }
   ],
   "source": [
    "w = qin - qout\n",
    "\n",
    "print(w)"
   ]
  },
  {
   "cell_type": "markdown",
   "metadata": {},
   "source": [
    "#### e) A pressão média efetiva, em kPa"
   ]
  },
  {
   "cell_type": "code",
   "execution_count": 11,
   "metadata": {},
   "outputs": [
    {
     "name": "stdout",
     "output_type": "stream",
     "text": [
      "669.875670066926\n"
     ]
    }
   ],
   "source": [
    "PME = w / (v1 - v2)\n",
    "\n",
    "print(PME)"
   ]
  }
 ],
 "metadata": {
  "kernelspec": {
   "display_name": "Python 3",
   "language": "python",
   "name": "python3"
  },
  "language_info": {
   "codemirror_mode": {
    "name": "ipython",
    "version": 3
   },
   "file_extension": ".py",
   "mimetype": "text/x-python",
   "name": "python",
   "nbconvert_exporter": "python",
   "pygments_lexer": "ipython3",
   "version": "3.7.1"
  }
 },
 "nbformat": 4,
 "nbformat_minor": 2
}
