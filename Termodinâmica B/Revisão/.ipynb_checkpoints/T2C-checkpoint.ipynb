{
 "cells": [
  {
   "cell_type": "markdown",
   "metadata": {},
   "source": [
    "# Ciclo Diesel\n",
    "\n",
    "Um ciclo Diesel opera com razão de compressão de 21:1, razão de corte de 1.5 e admite CO_2 a 310K e 90kPa. Determine, considerando a variação dos calores específicos:\n",
    "\n",
    "a) A temperatura do CO2 no final do processo de adição de calor, em K\n",
    "\n",
    "b) A pressão do CO2 no final do processo de adição de calor, em kPa\n",
    "\n",
    "c) A eficiência térmica do ciclo, em %\n",
    "\n",
    "d) A saída de trabalho específico líquido por ciclo, em kJ/kg\n",
    "\n",
    "e) A pressão média efetiva, em kPa\n",
    "\n",
    "f) Para uma razão de corte de 2.0, a saída de trabalho específico líquido por ciclo, em kJ/kg\n",
    "\n",
    "g) Para uma razão de corte de 2.0, a eficiência térmica do ciclo, em %\n",
    "\n",
    "h) Para uma razão de corte de 2.5, a saída de trabalho específico líquido por ciclo, em kJ/kg\n",
    "\n",
    "i) Para uma razão de corte de 2.5, a eficiência térmica do ciclo, em %"
   ]
  },
  {
   "cell_type": "markdown",
   "metadata": {},
   "source": [
    "# Dados iniciais:"
   ]
  },
  {
   "cell_type": "code",
   "execution_count": 1,
   "metadata": {},
   "outputs": [],
   "source": [
    "from CoolProp import CoolProp as CP\n",
    "State = CP.State\n",
    "\n",
    "r = 21\n",
    "rc = 1.5\n",
    "\n",
    "fl = 'CO2'\n",
    "T1 = 310 #K\n",
    "P1 = 90 #kPa"
   ]
  },
  {
   "cell_type": "markdown",
   "metadata": {},
   "source": [
    "# Estados CoolProp:"
   ]
  },
  {
   "cell_type": "code",
   "execution_count": 2,
   "metadata": {},
   "outputs": [
    {
     "name": "stdout",
     "output_type": "stream",
     "text": [
      "310\n",
      "90\n",
      "0.6481772901863171\n",
      "2.7928006921465465\n",
      "457.7518215473467\n"
     ]
    }
   ],
   "source": [
    "# Estado 1:\n",
    "\n",
    "st1 = State(fl, {'P': P1, 'T':T1})\n",
    "v1 = 1/st1.rho\n",
    "s1 = st1.s\n",
    "u1 = st1.u\n",
    "\n",
    "print(T1)\n",
    "print(P1)\n",
    "print(v1)\n",
    "print(s1)\n",
    "print(u1)"
   ]
  },
  {
   "cell_type": "code",
   "execution_count": 3,
   "metadata": {},
   "outputs": [
    {
     "name": "stdout",
     "output_type": "stream",
     "text": [
      "649.3030277920561\n",
      "3957.295944514013\n",
      "0.030865585246967482\n",
      "2.7928006921465465\n",
      "846.7262604651572\n"
     ]
    }
   ],
   "source": [
    "# Estado 2:\n",
    "\n",
    "s2 = s1\n",
    "v2 = v1/r\n",
    "\n",
    "st2 = State(fl, {'S': s2, 'D': 1/v2})\n",
    "T2 = st2.T\n",
    "P2 = st2.p\n",
    "h2 = st2.h\n",
    "\n",
    "print(T2)\n",
    "print(P2)\n",
    "print(v2)\n",
    "print(s2)\n",
    "print(h2)"
   ]
  },
  {
   "cell_type": "code",
   "execution_count": 4,
   "metadata": {},
   "outputs": [
    {
     "name": "stdout",
     "output_type": "stream",
     "text": [
      "962.418886203779\n",
      "3957.295944514013\n",
      "0.04629837787045123\n",
      "3.257172593036609\n",
      "1217.2804104105257\n"
     ]
    }
   ],
   "source": [
    "# Estado 3:\n",
    "\n",
    "P3 = P2\n",
    "v3 = v2*rc\n",
    "\n",
    "st3 = State(fl, {'D': 1/v3, 'P':P3})\n",
    "T3 = st3.T\n",
    "s3 = st3.s\n",
    "h3 = st3.h\n",
    "\n",
    "print(T3)\n",
    "print(P3)\n",
    "print(v3)\n",
    "print(s3)\n",
    "print(h3)"
   ]
  },
  {
   "cell_type": "code",
   "execution_count": 5,
   "metadata": {},
   "outputs": [
    {
     "name": "stdout",
     "output_type": "stream",
     "text": [
      "567.7239686743915\n",
      "165.36965012074313\n",
      "0.6481772901863171\n",
      "3.257172593036609\n"
     ]
    }
   ],
   "source": [
    "# Estado 4:\n",
    "\n",
    "s4 = s3\n",
    "v4 = v1\n",
    "\n",
    "st4 = State(fl, {'D': 1/v4, 'S':s4})\n",
    "T4 = st4.T\n",
    "P4 = st4.p\n",
    "u4 = st4.u\n",
    "\n",
    "print(T4)\n",
    "print(P4)\n",
    "print(v4)\n",
    "print(s4)"
   ]
  },
  {
   "cell_type": "markdown",
   "metadata": {},
   "source": [
    "# Resolução:"
   ]
  },
  {
   "cell_type": "markdown",
   "metadata": {},
   "source": [
    "#### a) A temperatura do CO2 no final do processo de adição de calor, em K"
   ]
  },
  {
   "cell_type": "code",
   "execution_count": 6,
   "metadata": {},
   "outputs": [
    {
     "name": "stdout",
     "output_type": "stream",
     "text": [
      "962.418886203779\n"
     ]
    }
   ],
   "source": [
    "print(T3)"
   ]
  },
  {
   "cell_type": "markdown",
   "metadata": {},
   "source": [
    "#### b) A pressão do CO2 no final do processo de adição de calor, em kPa"
   ]
  },
  {
   "cell_type": "code",
   "execution_count": 7,
   "metadata": {},
   "outputs": [
    {
     "name": "stdout",
     "output_type": "stream",
     "text": [
      "3957.295944514013\n"
     ]
    }
   ],
   "source": [
    "print(P3)"
   ]
  },
  {
   "cell_type": "markdown",
   "metadata": {},
   "source": [
    "#### c) A eficiência térmica do ciclo, em %"
   ]
  },
  {
   "cell_type": "code",
   "execution_count": 8,
   "metadata": {},
   "outputs": [
    {
     "name": "stdout",
     "output_type": "stream",
     "text": [
      "45.923377996339354\n"
     ]
    }
   ],
   "source": [
    "qin = h3 - h2\n",
    "qout = -(u1 - u4)\n",
    "\n",
    "n = (qin - qout)/qin\n",
    "\n",
    "print(n*100)"
   ]
  },
  {
   "cell_type": "markdown",
   "metadata": {},
   "source": [
    "#### d) A saída de trabalho específico líquido por ciclo, em kJ/kg"
   ]
  },
  {
   "cell_type": "code",
   "execution_count": 9,
   "metadata": {},
   "outputs": [
    {
     "name": "stdout",
     "output_type": "stream",
     "text": [
      "170.1709829605337\n"
     ]
    }
   ],
   "source": [
    "w = n*qin\n",
    "\n",
    "print(w)"
   ]
  },
  {
   "cell_type": "markdown",
   "metadata": {},
   "source": [
    "#### e) A pressão média efetiva, em kPa"
   ]
  },
  {
   "cell_type": "code",
   "execution_count": 10,
   "metadata": {},
   "outputs": [
    {
     "name": "stdout",
     "output_type": "stream",
     "text": [
      "275.6645979639295\n"
     ]
    }
   ],
   "source": [
    "PME = w/(v1 - v2)\n",
    "\n",
    "print(PME)"
   ]
  },
  {
   "cell_type": "markdown",
   "metadata": {},
   "source": [
    "#### f) Para uma razão de corte de 2.0, a saída de trabalho específico líquido por ciclo, em kJ/kg"
   ]
  },
  {
   "cell_type": "code",
   "execution_count": 11,
   "metadata": {},
   "outputs": [
    {
     "name": "stdout",
     "output_type": "stream",
     "text": [
      "321.9257968290292\n"
     ]
    }
   ],
   "source": [
    "rc = 2\n",
    "P3 = P2\n",
    "v3 = v2*rc\n",
    "\n",
    "#-------------------------------------\n",
    "\n",
    "# Estado 3:\n",
    "st3 = State(fl, {'D': 1/v3, 'P':P3})\n",
    "T3 = st3.T\n",
    "s3 = st3.s\n",
    "h3 = st3.h\n",
    "\n",
    "s4 = s3\n",
    "v4 = v1\n",
    "\n",
    "# Estado 4:\n",
    "st4 = State(fl, {'D': 1/v4, 'S':s4})\n",
    "T4 = st4.T\n",
    "P4 = st4.p\n",
    "u4 = st4.u\n",
    "\n",
    "#--------------------------------------\n",
    "\n",
    "qin = h3 - h2\n",
    "qout = -(u1 - u4)\n",
    "\n",
    "n = (qin - qout)/qin\n",
    "\n",
    "w = n*qin\n",
    "\n",
    "print(w)"
   ]
  },
  {
   "cell_type": "markdown",
   "metadata": {},
   "source": [
    "#### g) Para uma razão de corte de 2.0, a eficiência térmica do ciclo, em %"
   ]
  },
  {
   "cell_type": "code",
   "execution_count": 12,
   "metadata": {},
   "outputs": [
    {
     "name": "stdout",
     "output_type": "stream",
     "text": [
      "41.54100695026458\n"
     ]
    }
   ],
   "source": [
    "print(n*100)"
   ]
  },
  {
   "cell_type": "markdown",
   "metadata": {},
   "source": [
    "#### h) Para uma razão de corte de 2.5, a saída de trabalho específico líquido por ciclo, em kJ/kg"
   ]
  },
  {
   "cell_type": "code",
   "execution_count": 13,
   "metadata": {},
   "outputs": [
    {
     "name": "stdout",
     "output_type": "stream",
     "text": [
      "459.2907511340877\n"
     ]
    }
   ],
   "source": [
    "rc = 2.5\n",
    "P3 = P2\n",
    "v3 = v2*rc\n",
    "\n",
    "#-------------------------------------\n",
    "\n",
    "# Estado 3:\n",
    "st3 = State(fl, {'D': 1/v3, 'P':P3})\n",
    "T3 = st3.T\n",
    "s3 = st3.s\n",
    "h3 = st3.h\n",
    "\n",
    "s4 = s3\n",
    "v4 = v1\n",
    "\n",
    "# Estado 4:\n",
    "st4 = State(fl, {'D': 1/v4, 'S':s4})\n",
    "T4 = st4.T\n",
    "P4 = st4.p\n",
    "u4 = st4.u\n",
    "\n",
    "#--------------------------------------\n",
    "\n",
    "qin = h3 - h2\n",
    "qout = -(u1 - u4)\n",
    "\n",
    "n = (qin - qout)/qin\n",
    "\n",
    "w = n*qin\n",
    "\n",
    "print(w)"
   ]
  },
  {
   "cell_type": "markdown",
   "metadata": {},
   "source": [
    "#### i) Para uma razão de corte de 2.5, a eficiência térmica do ciclo, em %"
   ]
  },
  {
   "cell_type": "code",
   "execution_count": 14,
   "metadata": {},
   "outputs": [
    {
     "name": "stdout",
     "output_type": "stream",
     "text": [
      "38.30935414869178\n"
     ]
    }
   ],
   "source": [
    "print(n*100)"
   ]
  }
 ],
 "metadata": {
  "kernelspec": {
   "display_name": "Python 3",
   "language": "python",
   "name": "python3"
  },
  "language_info": {
   "codemirror_mode": {
    "name": "ipython",
    "version": 3
   },
   "file_extension": ".py",
   "mimetype": "text/x-python",
   "name": "python",
   "nbconvert_exporter": "python",
   "pygments_lexer": "ipython3",
   "version": "3.7.1"
  }
 },
 "nbformat": 4,
 "nbformat_minor": 2
}
