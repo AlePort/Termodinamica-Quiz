{
 "cells": [
  {
   "cell_type": "code",
   "execution_count": 5,
   "metadata": {},
   "outputs": [],
   "source": [
    "##Massa, Pressão, Ru, Temperatura; [Kg], [KPa], [KPa*m³/Kmol*K], [K].\n",
    "m = 40\n",
    "P = 8000\n",
    "Ru = 8.314\n",
    "T = 500\n",
    "\n",
    "##porcentagens\n",
    "P_CH4 = 0.50\n",
    "P_C3H8 = 0.30\n",
    "P_C4H10 = 0.20\n",
    "\n",
    "##Massas Molares [Kg/Kmol].\n",
    "M_CH4=16.04 \n",
    "M_C3H3=44.1\n",
    "M_C4H10=58.12\n",
    "\n",
    "##Número de mols.\n",
    "N_CH4 = P_CH4 * (m / M_CH4)\n",
    "N_C3H8 = P_C3H8 * (m  / M_C3H3)\n",
    "N_C4H10 = P_C4H10 * (m / M_C4H10)\n",
    "N_total = N_CH4 + N_C3H8 + N_C4H10\n",
    "\n",
    "##Temperatura e Pressões pseudocríticas.\n",
    "y_CH4 = N_CH4 / N_total\n",
    "y_C3H8 = N_C3H8 / N_total\n",
    "y_C4H10 = N_C4H10 / N_total\n",
    "\n",
    "Tcr_CH4 = 191.1\n",
    "Tcr_C3H8 = 370\n",
    "Tcr_C4H10 = 425.2\n",
    "\n",
    "Pcr_CH4 = 4640\n",
    "Pcr_C3H8 = 4260\n",
    "Pcr_C4H10 = 3800\n",
    "\n",
    "Tcr_m = y_CH4 * Tcr_CH4 + y_C3H8 * Tcr_C3H8 + y_C4H10 * Tcr_C4H10\n",
    "Pcr_m = y_CH4 * Pcr_CH4 + y_C3H8 * Pcr_C3H8 + y_C4H10 * Pcr_C4H10\n",
    "\n",
    "Tr = T / Tcr_m\n",
    "Pr = P / Pcr_m"
   ]
  },
  {
   "cell_type": "code",
   "execution_count": 18,
   "metadata": {},
   "outputs": [
    {
     "name": "stdout",
     "output_type": "stream",
     "text": [
      "Para comportamento ideal:\n",
      "\n",
      "Nº DE MOLES: 1.6566378856945823\n",
      "V = 0.8608304613540473 m³\n"
     ]
    }
   ],
   "source": [
    "##a)Compotamneto ideal, [m³].\n",
    "\n",
    "V_1 = ((N_total * Ru * T) / P)\n",
    "\n",
    "print('Para comportamento ideal:\\n')\n",
    "print(\"Nº DE MOLES:\" ,N_total)\n",
    "print('V = {} m³'.format(V_1))\n"
   ]
  },
  {
   "cell_type": "code",
   "execution_count": 24,
   "metadata": {},
   "outputs": [
    {
     "name": "stdout",
     "output_type": "stream",
     "text": [
      "Tr = 2.083890655766149\n",
      "Pr = 1.7747055925734334\n"
     ]
    }
   ],
   "source": [
    "##b)Considerando a regra de Kay [m³]. O Z tem que achar na tabela com as pressões e temperaturas críticas\n",
    "\n",
    "print('Tr =', Tr)\n",
    "print('Pr =', Pr)"
   ]
  },
  {
   "cell_type": "code",
   "execution_count": 37,
   "metadata": {},
   "outputs": [
    {
     "name": "stdout",
     "output_type": "stream",
     "text": [
      "Regra de Kay:\n",
      "\n",
      "V = 0.800572329059264 m³\n"
     ]
    }
   ],
   "source": [
    "print('Regra de Kay:\\n')\n",
    "\n",
    "Z_Kay = 0.93\n",
    "V_2 = Z_Kay * V_1\n",
    "\n",
    "print('V = {} m³'.format(V_2))"
   ]
  },
  {
   "cell_type": "code",
   "execution_count": 40,
   "metadata": {},
   "outputs": [
    {
     "name": "stdout",
     "output_type": "stream",
     "text": [
      "Tr CH4 = 2.6164311878597593\n",
      "Pr CH4 = 1.7241379310344827\n",
      "\n",
      "Tr C3H8 = 1.3513513513513513\n",
      "Pr C3H8 = 1.8779342723004695\n",
      "\n",
      "Tr C4H10 = 1.175917215428034\n",
      "Pr C4H10 = 2.1052631578947367\n"
     ]
    }
   ],
   "source": [
    "Tr_CH4 = T / Tcr_CH4\n",
    "Tr_C3H8 = T / Tcr_C3H8\n",
    "Tr_C4H10 = T / Tcr_C4H10\n",
    "\n",
    "Pr_CH4 = P / Pcr_CH4\n",
    "Pr_C3H8 = P / Pcr_C3H8\n",
    "Pr_C4H10 = P / Pcr_C4H10\n",
    "\n",
    "print('Tr CH4 = {}'.format(Tr_CH4))\n",
    "print('Pr CH4 = {}\\n'.format(Pr_CH4))\n",
    "\n",
    "print('Tr C3H8 = {}'.format(Tr_C3H8))\n",
    "print('Pr C3H8 = {}\\n'.format(Pr_C3H8))\n",
    "\n",
    "print('Tr C4H10 = {}'.format(Tr_C4H10))\n",
    "print('Pr C4H10 = {}'.format(Pr_C4H10))"
   ]
  },
  {
   "cell_type": "code",
   "execution_count": 41,
   "metadata": {},
   "outputs": [],
   "source": [
    "Z_1 = 1.01\n",
    "Z_2 = 0.86\n",
    "Z_3 = 0.50"
   ]
  },
  {
   "cell_type": "code",
   "execution_count": 43,
   "metadata": {},
   "outputs": [
    {
     "name": "stdout",
     "output_type": "stream",
     "text": [
      "Lei de Amagat:\n",
      "\n",
      "V = 0.811752121867415 m³\n"
     ]
    }
   ],
   "source": [
    "print('Lei de Amagat:\\n')\n",
    "\n",
    "Z_Amagat = y_CH4 * Z_1 + y_C3H8 * Z_2 + y_C4H10 * Z_3\n",
    "\n",
    "V_3 = Z_Amagat * V_1\n",
    "\n",
    "print('V = {} m³'.format(V_3))"
   ]
  },
  {
   "cell_type": "code",
   "execution_count": null,
   "metadata": {},
   "outputs": [],
   "source": []
  }
 ],
 "metadata": {
  "kernelspec": {
   "display_name": "Python 3",
   "language": "python",
   "name": "python3"
  },
  "language_info": {
   "codemirror_mode": {
    "name": "ipython",
    "version": 3
   },
   "file_extension": ".py",
   "mimetype": "text/x-python",
   "name": "python",
   "nbconvert_exporter": "python",
   "pygments_lexer": "ipython3",
   "version": "3.8.5"
  }
 },
 "nbformat": 4,
 "nbformat_minor": 2
}
