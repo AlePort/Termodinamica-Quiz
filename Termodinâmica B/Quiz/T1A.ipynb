{
 "cells": [
  {
   "cell_type": "code",
   "execution_count": 32,
   "metadata": {},
   "outputs": [],
   "source": [
    "#Recursos e dados:\n",
    "\n",
    "from math import log\n",
    "\n",
    "T = [0, 40, 80, 120, 160, 200, 300] #ºC\n",
    "for i in range(0,7):\n",
    "    T[i] = T[i] + 273.15 #K\n",
    "    \n",
    "P = [2.728*10**-5, 8.626*10**-4, 0.01232, 0.1015, 0.5618, 2.315, 33.02] #kPa\n",
    "\n",
    "M = 200.592 #kg/kmol\n",
    "\n",
    "cp = [28.019, 27.790, 27.595, 27.435, 27.309, 27.217, 27.130] #kJ/kmol.K\n",
    "for i in range(0,7):\n",
    "    cp[i] = cp[i]/M #kJ/kg.K\n",
    "    \n",
    "v_liq = [7.356*10**-5, 7.409*10**-5, 7.463*10**-5, 7.517*10**-5, 7.571*10**-5, 7.627*10**-5, 7.768*10**-5] #m^3/kg\n",
    "\n",
    "B = [1.814*10**-4, 1.808*10**-4, 1.805*10**-4, 1.806*10**-4, 1.810*10**-4, 1.818*10**-4, 1.856*10**-4] #K^-1\n",
    "\n",
    "cp_med = list(range(6))\n",
    "for i in range(0,6):\n",
    "    cp_med[i] = (cp[i] + cp[i+1])/2"
   ]
  },
  {
   "cell_type": "code",
   "execution_count": 33,
   "metadata": {},
   "outputs": [
    {
     "name": "stdout",
     "output_type": "stream",
     "text": [
      "v_vap1 = 415027.9912322793\n",
      "v_vap2 = 15047.470885523851\n",
      "v_vap3 = 1188.1439262085362\n",
      "v_vap4 = 160.55091582192568\n",
      "v_vap5 = 31.95781904763573\n",
      "v_vap6 = 8.471657678616864\n",
      "v_vap7 = 0.7194684884490845\n"
     ]
    }
   ],
   "source": [
    "# Volume específico:\n",
    "\n",
    "#P = 8.626*10**-4 #kPa\n",
    "Ru = 8.3144621 #kJ/kg*K\n",
    "\n",
    "R = Ru / M\n",
    "\n",
    "for i in range(1,8):\n",
    "    v_vap = R*T[i-1]/P[i-1]\n",
    "    print('v_vap{} = {}'.format(i,v_vap))"
   ]
  },
  {
   "cell_type": "code",
   "execution_count": 39,
   "metadata": {},
   "outputs": [
    {
     "name": "stdout",
     "output_type": "stream",
     "text": [
      "s1 = 0.0000\n",
      "s2 = 0.01901104155423056\n",
      "s3 = 0.035606577001732295\n",
      "s4 = 0.050324577245437\n",
      "s5 = 0.0635461931692359\n",
      "s6 = 0.07555111688499483\n",
      "s7 = 0.10152436411999734\n"
     ]
    }
   ],
   "source": [
    "# Entropia liquido saturado:\n",
    "\n",
    "s = 0\n",
    "print('s1 = 0.0000')\n",
    "for i in range(0,6):\n",
    "    s = cp_med[i]*log((T[i+1]) / (T[i])) - (v_liq[i]*B[i]*(P[i+1]-P[i])) + s\n",
    "    print('s{} = {}'.format(i+2, s))"
   ]
  },
  {
   "cell_type": "code",
   "execution_count": 35,
   "metadata": {},
   "outputs": [],
   "source": [
    "# Entropia vapor saturado:\n"
   ]
  },
  {
   "cell_type": "code",
   "execution_count": 37,
   "metadata": {},
   "outputs": [
    {
     "name": "stdout",
     "output_type": "stream",
     "text": [
      "h1 = 0.0000\n"
     ]
    },
    {
     "ename": "TypeError",
     "evalue": "can't multiply sequence by non-int of type 'float'",
     "output_type": "error",
     "traceback": [
      "\u001b[1;31m---------------------------------------------------------------------------\u001b[0m",
      "\u001b[1;31mTypeError\u001b[0m                                 Traceback (most recent call last)",
      "\u001b[1;32m<ipython-input-37-37b4edddb0f4>\u001b[0m in \u001b[0;36m<module>\u001b[1;34m\u001b[0m\n\u001b[0;32m      4\u001b[0m \u001b[0mprint\u001b[0m\u001b[1;33m(\u001b[0m\u001b[1;34m'h1 = 0.0000'\u001b[0m\u001b[1;33m)\u001b[0m\u001b[1;33m\u001b[0m\u001b[1;33m\u001b[0m\u001b[0m\n\u001b[0;32m      5\u001b[0m \u001b[1;32mfor\u001b[0m \u001b[0mi\u001b[0m \u001b[1;32min\u001b[0m \u001b[0mrange\u001b[0m\u001b[1;33m(\u001b[0m\u001b[1;36m0\u001b[0m\u001b[1;33m,\u001b[0m\u001b[1;36m6\u001b[0m\u001b[1;33m)\u001b[0m\u001b[1;33m:\u001b[0m\u001b[1;33m\u001b[0m\u001b[1;33m\u001b[0m\u001b[0m\n\u001b[1;32m----> 6\u001b[1;33m     \u001b[0mh\u001b[0m \u001b[1;33m=\u001b[0m \u001b[0mcp_med\u001b[0m \u001b[1;33m*\u001b[0m \u001b[1;33m(\u001b[0m\u001b[0mT\u001b[0m\u001b[1;33m[\u001b[0m\u001b[0mi\u001b[0m\u001b[1;33m+\u001b[0m\u001b[1;36m1\u001b[0m\u001b[1;33m]\u001b[0m \u001b[1;33m-\u001b[0m \u001b[0mT\u001b[0m\u001b[1;33m[\u001b[0m\u001b[0mi\u001b[0m\u001b[1;33m]\u001b[0m\u001b[1;33m)\u001b[0m \u001b[1;33m+\u001b[0m \u001b[0mv\u001b[0m\u001b[1;33m[\u001b[0m\u001b[0mi\u001b[0m\u001b[1;33m]\u001b[0m \u001b[1;33m*\u001b[0m \u001b[1;33m(\u001b[0m\u001b[1;36m1\u001b[0m \u001b[1;33m-\u001b[0m \u001b[0mT\u001b[0m\u001b[1;33m[\u001b[0m\u001b[0mi\u001b[0m\u001b[1;33m]\u001b[0m \u001b[1;33m*\u001b[0m \u001b[0mB\u001b[0m\u001b[1;33m[\u001b[0m\u001b[1;36m1\u001b[0m\u001b[1;33m]\u001b[0m\u001b[1;33m)\u001b[0m \u001b[1;33m*\u001b[0m \u001b[1;33m(\u001b[0m\u001b[0mP\u001b[0m\u001b[1;33m[\u001b[0m\u001b[0mi\u001b[0m\u001b[1;33m+\u001b[0m\u001b[1;36m1\u001b[0m\u001b[1;33m]\u001b[0m \u001b[1;33m-\u001b[0m \u001b[0mP\u001b[0m\u001b[1;33m[\u001b[0m\u001b[0mi\u001b[0m\u001b[1;33m]\u001b[0m\u001b[1;33m)\u001b[0m \u001b[1;33m+\u001b[0m \u001b[0mh\u001b[0m\u001b[1;33m\u001b[0m\u001b[1;33m\u001b[0m\u001b[0m\n\u001b[0m\u001b[0;32m      7\u001b[0m     \u001b[0mprint\u001b[0m\u001b[1;33m(\u001b[0m\u001b[1;34m'h{} = {}'\u001b[0m\u001b[1;33m.\u001b[0m\u001b[0mformat\u001b[0m\u001b[1;33m(\u001b[0m\u001b[0mi\u001b[0m\u001b[1;33m+\u001b[0m\u001b[1;36m2\u001b[0m\u001b[1;33m,\u001b[0m \u001b[0mh\u001b[0m\u001b[1;33m)\u001b[0m\u001b[1;33m)\u001b[0m\u001b[1;33m\u001b[0m\u001b[1;33m\u001b[0m\u001b[0m\n",
      "\u001b[1;31mTypeError\u001b[0m: can't multiply sequence by non-int of type 'float'"
     ]
    }
   ],
   "source": [
    "#Entalpia liquido saturado:\n",
    "\n",
    "h =0\n",
    "print('h1 = 0.0000')\n",
    "for i in range(0,6):\n",
    "    h = cp_med * (T[i+1] - T[i]) + v[i] * (1 - T[i] * B[1]) * (P[i+1] - P[i]) + h\n",
    "    print('h{} = {}'.format(i+2, h))"
   ]
  },
  {
   "cell_type": "code",
   "execution_count": null,
   "metadata": {},
   "outputs": [],
   "source": [
    "# Entalpia vapor saturado:\n",
    "\n",
    "#hlv = (math.log(P2/P1)*R)/(1/T1-1/T2)\n",
    "hlv = v2*(P2 - P1)/(math.log(T2/T1))\n",
    "hv = h2 + hlv\n",
    "\n",
    "print('hlv = {}'.format(hlv))\n",
    "print('hv = {}'.format(hv))"
   ]
  },
  {
   "cell_type": "code",
   "execution_count": null,
   "metadata": {},
   "outputs": [],
   "source": []
  },
  {
   "cell_type": "code",
   "execution_count": null,
   "metadata": {},
   "outputs": [],
   "source": []
  }
 ],
 "metadata": {
  "kernelspec": {
   "display_name": "Python 3",
   "language": "python",
   "name": "python3"
  },
  "language_info": {
   "codemirror_mode": {
    "name": "ipython",
    "version": 3
   },
   "file_extension": ".py",
   "mimetype": "text/x-python",
   "name": "python",
   "nbconvert_exporter": "python",
   "pygments_lexer": "ipython3",
   "version": "3.7.1"
  }
 },
 "nbformat": 4,
 "nbformat_minor": 2
}
