{
 "cells": [
  {
   "cell_type": "code",
   "execution_count": 46,
   "metadata": {},
   "outputs": [],
   "source": [
    "#Recursos e dados:\n",
    "\n",
    "import math\n",
    "\n",
    "T1 = 0 + 273.15 #K\n",
    "T2 = 40 + 273.15 #K\n",
    "T3 = 80 + 273.15 #K\n",
    "T4 = 120 + 273.15 #K\n",
    "T5 = 160 + 273.15 #K\n",
    "T6 = 200 + 273.15 #K\n",
    "T7 = 300 + 273.15 #K\n",
    "\n",
    "P1 = 2.728*10**-5 #kPa\n",
    "P2 = 8.626*10**-4 #kPa\n",
    "\n",
    "M = 200.592 #kg/kmol\n",
    "\n",
    "cp1 = 28.019 #kJ/kmol.K\n",
    "cp2 = 27.790 #kJ/kmol.K\n",
    "\n",
    "v = 7.409*10**-5 #m^3/kg\n",
    "\n",
    "B = 1.808*10**-4 #K^-1\n",
    "\n",
    "#for i in range(0,5):\n",
    "    cpmed = (cp1 + cp2)/(2*M) #kJ/kg.K"
   ]
  },
  {
   "cell_type": "code",
   "execution_count": 71,
   "metadata": {},
   "outputs": [
    {
     "name": "stdout",
     "output_type": "stream",
     "text": [
      "v1 = 15047.470885523851\n",
      "v2 = 15047.470885523851\n",
      "v3 = 15047.470885523851\n",
      "v4 = 15047.470885523851\n",
      "v5 = 15047.470885523851\n",
      "v6 = 15047.470885523851\n",
      "v7 = 15047.470885523851\n",
      "v1 = 415027.9912322793\n",
      "v2 = 15047.470885523851\n"
     ]
    }
   ],
   "source": [
    "# Volume específico:\n",
    "\n",
    "P = 8.626*10**-4 #kPa\n",
    "Ru = 8.3144621 #kJ/kg*K\n",
    "\n",
    "R = Ru / M\n",
    "#for i in range(1,8):\n",
    "\n",
    "for i in range(1,8):\n",
    "    v = R*T/P\n",
    "    print('v{} = {}'.format(i,v))\n",
    "\n",
    "#v1 = R*T1/P1\n",
    "#v2 = R*T2/P2\n",
    "#===========================================================================================================================\n",
    "print('v1 = {}'.format(v1))\n",
    "print('v2 = {}'.format(v2))"
   ]
  },
  {
   "cell_type": "code",
   "execution_count": 58,
   "metadata": {},
   "outputs": [
    {
     "name": "stdout",
     "output_type": "stream",
     "text": [
      "s = 0.019011041554187386\n"
     ]
    }
   ],
   "source": [
    "# Entropia liquido saturado:\n",
    "\n",
    "s1 = 0\n",
    "s2 = cpmed*math.log(T2/T1) - v*B*(P2 - P1) + s1\n",
    "\n",
    "print('s = {}'.format(s2))"
   ]
  },
  {
   "cell_type": "code",
   "execution_count": 59,
   "metadata": {},
   "outputs": [],
   "source": [
    "# Entropia vapor saturado:\n"
   ]
  },
  {
   "cell_type": "code",
   "execution_count": 60,
   "metadata": {},
   "outputs": [
    {
     "name": "stdout",
     "output_type": "stream",
     "text": [
      "h = 5.564429347688526\n"
     ]
    }
   ],
   "source": [
    "#Entalpia liquido saturado:\n",
    "\n",
    "h1 =0\n",
    "h2 = cpmed*(T2 - T1) + v*(1-T*B)*(P2 - P1) + h1\n",
    "\n",
    "print('h = {}'.format(h2))"
   ]
  },
  {
   "cell_type": "code",
   "execution_count": 63,
   "metadata": {},
   "outputs": [
    {
     "name": "stdout",
     "output_type": "stream",
     "text": [
      "hlv = 2444.8175027844445\n",
      "hv = 2450.381932132133\n"
     ]
    }
   ],
   "source": [
    "# Entalpia vapor saturado:\n",
    "\n",
    "#hlv = (math.log(P2/P1)*R)/(1/T1-1/T2)\n",
    "hlv = v2*(P2 - P1)/(math.log(T2/T1))\n",
    "hv = h2 + hlv\n",
    "\n",
    "print('hlv = {}'.format(hlv))\n",
    "print('hv = {}'.format(hv))"
   ]
  },
  {
   "cell_type": "code",
   "execution_count": null,
   "metadata": {},
   "outputs": [],
   "source": []
  }
 ],
 "metadata": {
  "kernelspec": {
   "display_name": "Python 3",
   "language": "python",
   "name": "python3"
  },
  "language_info": {
   "codemirror_mode": {
    "name": "ipython",
    "version": 3
   },
   "file_extension": ".py",
   "mimetype": "text/x-python",
   "name": "python",
   "nbconvert_exporter": "python",
   "pygments_lexer": "ipython3",
   "version": "3.7.1"
  }
 },
 "nbformat": 4,
 "nbformat_minor": 2
}
