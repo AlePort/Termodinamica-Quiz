{
 "cells": [
  {
   "cell_type": "code",
   "execution_count": 18,
   "metadata": {},
   "outputs": [
    {
     "name": "stdout",
     "output_type": "stream",
     "text": [
      "v = 160.55091582192568\n",
      "u = 1110.0220152149636\n"
     ]
    }
   ],
   "source": [
    "M = 200.592 #kg/kmol\n",
    "T1c = 80 #ºC\n",
    "T2c = 120 #ºC\n",
    "P = 0.1015 #kPa\n",
    "Ru = 8.3144621 #kJ/kg*K\n",
    "u1 = 11.08\n",
    "cp1 = 27.595\n",
    "cp2 = 27.435\n",
    "\n",
    "T1 = T1c + 273.15\n",
    "T2 = T2c + 273.15\n",
    "R = Ru / M\n",
    "\n",
    "v2 = R*T2/P\n",
    "\n",
    "cv1 = cp1 - R\n",
    "cv2 = cp2 - R\n",
    "cvmed = (cv1+cv2)/2\n",
    "\n",
    "u2 = cvmed*(T2-T1)+u1\n",
    "\n",
    "#===========================================================================================================================\n",
    "\n",
    "print('v = {}'.format(v2))\n",
    "print('u = {}'.format(u2))"
   ]
  },
  {
   "cell_type": "code",
   "execution_count": null,
   "metadata": {},
   "outputs": [],
   "source": []
  },
  {
   "cell_type": "code",
   "execution_count": null,
   "metadata": {},
   "outputs": [],
   "source": []
  }
 ],
 "metadata": {
  "kernelspec": {
   "display_name": "Python 3",
   "language": "python",
   "name": "python3"
  },
  "language_info": {
   "codemirror_mode": {
    "name": "ipython",
    "version": 3
   },
   "file_extension": ".py",
   "mimetype": "text/x-python",
   "name": "python",
   "nbconvert_exporter": "python",
   "pygments_lexer": "ipython3",
   "version": "3.7.1"
  }
 },
 "nbformat": 4,
 "nbformat_minor": 2
}
