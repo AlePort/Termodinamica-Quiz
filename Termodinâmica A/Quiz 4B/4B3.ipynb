{
 "cells": [
  {
   "cell_type": "code",
   "execution_count": 1,
   "metadata": {},
   "outputs": [
    {
     "name": "stdout",
     "output_type": "stream",
     "text": [
      "Trabalho mínimo para bomba A: 3.56194 kW\n",
      "Custo de operação bomba A: 1419.24836 R$\n",
      "Trabalho mínimo para bomba B: 1.33199 kW\n",
      "Custo de operação bomba B: 530.72733 R$\n",
      "Custo de operação aquecedor elétrico: 6597.3581 R$\n"
     ]
    }
   ],
   "source": [
    "Th = ((93.5 - 32) * (5/9)) + 273.15 #K --> casa\n",
    "Tlar = ((-25.5 - 32) * (5/9)) + 273.15#K --> ar externo\n",
    "Qh = 56500*(1.055/3600) #kW\n",
    "Tlagua =((49 - 32) * (5/9)) + 273.15 #K --> água subterrânea\n",
    "preço = 0.5534 #R$/kWh\n",
    "t = 30 * 24\n",
    "\n",
    "#Bomba A --> Casa + ar externo\n",
    "#Bomba B --> Casa + água subterrânea\n",
    "\n",
    "#Went_min(A) entre casa e ar externo funcione\n",
    "A = Qh * (1 - (Tlar/Th)) #kW\n",
    "\n",
    "#Custo(B) para bomba A\n",
    "\n",
    "B = A * preço * t #R$\n",
    "\n",
    "#Went_min (C) entre casa e água subterrânea\n",
    "\n",
    "C = Qh * (1 - (Tlagua/Th)) #kW\n",
    "\n",
    "#Custo(D) para bomba B\n",
    "D = C * preço * t\n",
    "\n",
    "#Potência Aquecedor Elétrico\n",
    "Waq = Qh #kW\n",
    "\n",
    "#Custo(E) para aquecedor elétrico\n",
    "E = Waq * preço * t\n",
    "\n",
    "\n",
    "print('Trabalho mínimo para bomba A:', round(A,5), 'kW')\n",
    "print('Custo de operação bomba A:', round(B,5), 'R$')\n",
    "print('Trabalho mínimo para bomba B:', round(C,5), 'kW')\n",
    "print('Custo de operação bomba B:', round(D,5), 'R$')\n",
    "print('Custo de operação aquecedor elétrico:', round(E,5), 'R$')\n",
    "\n"
   ]
  },
  {
   "cell_type": "code",
   "execution_count": null,
   "metadata": {},
   "outputs": [],
   "source": []
  }
 ],
 "metadata": {
  "kernelspec": {
   "display_name": "Python 3",
   "language": "python",
   "name": "python3"
  },
  "language_info": {
   "codemirror_mode": {
    "name": "ipython",
    "version": 3
   },
   "file_extension": ".py",
   "mimetype": "text/x-python",
   "name": "python",
   "nbconvert_exporter": "python",
   "pygments_lexer": "ipython3",
   "version": "3.6.5"
  }
 },
 "nbformat": 4,
 "nbformat_minor": 2
}
