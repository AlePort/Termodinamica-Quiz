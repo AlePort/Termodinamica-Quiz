{
 "cells": [
  {
   "cell_type": "code",
   "execution_count": 3,
   "metadata": {},
   "outputs": [
    {
     "name": "stdout",
     "output_type": "stream",
     "text": [
      "Transf. de calor processo reversível: 313.18711 kJ\n",
      "Transf. de calor processo irreversível: 266.38622 kJ\n"
     ]
    }
   ],
   "source": [
    "from CoolProp.State import State\n",
    "import math\n",
    "m = 4 #kg\n",
    "P1 = 500 #kPa\n",
    "T = 160 + 273.15 #K\n",
    "R = 0.2598 #kJ/kgK\n",
    "P2 = 250 #kPa\n",
    "#T1 = T2 = T Processo Isotérmico\n",
    "\n",
    "u1 = State('oxygen', {'P':P1, 'T':T}).u\n",
    "u2 = State('oxygen', {'P':P2, 'T':T}).u\n",
    "v1 = (R*T)/P1 #m³/kg\n",
    "v2 = (P1*v1)/P2 #m³/kg\n",
    "V1 = v1 * m #m³\n",
    "V2 = v2 * m #m³\n",
    "\n",
    "W = m*R*T*(math.log(V2/V1))\n",
    "Qrev = m*(u2 - u1) + W\n",
    "W2 = 0.85 * W\n",
    "Qirrev = m*(u2 - u1) + W2\n",
    "print('Transf. de calor processo reversível:', round(Qrev,5), 'kJ')\n",
    "print('Transf. de calor processo irreversível:', round(Qirrev,5), 'kJ')\n",
    "\n"
   ]
  },
  {
   "cell_type": "code",
   "execution_count": null,
   "metadata": {},
   "outputs": [],
   "source": []
  },
  {
   "cell_type": "code",
   "execution_count": null,
   "metadata": {},
   "outputs": [],
   "source": []
  }
 ],
 "metadata": {
  "kernelspec": {
   "display_name": "Python 3",
   "language": "python",
   "name": "python3"
  },
  "language_info": {
   "codemirror_mode": {
    "name": "ipython",
    "version": 3
   },
   "file_extension": ".py",
   "mimetype": "text/x-python",
   "name": "python",
   "nbconvert_exporter": "python",
   "pygments_lexer": "ipython3",
   "version": "3.6.5"
  }
 },
 "nbformat": 4,
 "nbformat_minor": 2
}
