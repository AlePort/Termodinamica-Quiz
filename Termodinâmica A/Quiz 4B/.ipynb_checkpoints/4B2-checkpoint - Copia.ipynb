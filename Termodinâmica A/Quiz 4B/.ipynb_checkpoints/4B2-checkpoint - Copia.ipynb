{
 "cells": [
  {
   "cell_type": "code",
   "execution_count": 1,
   "metadata": {},
   "outputs": [
    {
     "name": "stdout",
     "output_type": "stream",
     "text": [
      "Trabalho mínimo por unidade de massa: 0.59286\n"
     ]
    }
   ],
   "source": [
    "Tl = 280 #K\n",
    "Th = 446 #K\n",
    "\n",
    "w_min = (Th/Tl) - 1\n",
    "\n",
    "print('Trabalho mínimo por unidade de massa:', round(w_min,5))"
   ]
  },
  {
   "cell_type": "code",
   "execution_count": null,
   "metadata": {},
   "outputs": [],
   "source": []
  }
 ],
 "metadata": {
  "kernelspec": {
   "display_name": "Python 3",
   "language": "python",
   "name": "python3"
  },
  "language_info": {
   "codemirror_mode": {
    "name": "ipython",
    "version": 3
   },
   "file_extension": ".py",
   "mimetype": "text/x-python",
   "name": "python",
   "nbconvert_exporter": "python",
   "pygments_lexer": "ipython3",
   "version": "3.6.5"
  }
 },
 "nbformat": 4,
 "nbformat_minor": 2
}
