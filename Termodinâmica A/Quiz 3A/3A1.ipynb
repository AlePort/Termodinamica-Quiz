{
 "cells": [
  {
   "cell_type": "code",
   "execution_count": 2,
   "metadata": {},
   "outputs": [
    {
     "name": "stdout",
     "output_type": "stream",
     "text": [
      "m1: 2.1289\n",
      "m2 6.8599\n",
      "ment: 4.731\n"
     ]
    }
   ],
   "source": [
    "#Acumulador Pneumático\n",
    "\n",
    "P = 1.1e3 #kPa\n",
    "T = 273 + 51 #K\n",
    "R = 0.28705 #kJ/kg·K\n",
    "\n",
    "#Estado 1\n",
    "V1 = 0.18 #m³\n",
    "\n",
    "\n",
    "#Estado 2\n",
    "V2 = 0.58 #m³\n",
    "\n",
    "m1 = (P*V1)/(R*T)\n",
    "m2 = (P*V2)/(R*T)\n",
    "ment = m2 - m1\n",
    "\n",
    "print('m1:', round(m1,4))\n",
    "print('m2', round(m2,4))\n",
    "print('ment:', round(ment,4))\n",
    "\n",
    "\n"
   ]
  },
  {
   "cell_type": "code",
   "execution_count": null,
   "metadata": {},
   "outputs": [],
   "source": []
  }
 ],
 "metadata": {
  "kernelspec": {
   "display_name": "Python 3",
   "language": "python",
   "name": "python3"
  },
  "language_info": {
   "codemirror_mode": {
    "name": "ipython",
    "version": 3
   },
   "file_extension": ".py",
   "mimetype": "text/x-python",
   "name": "python",
   "nbconvert_exporter": "python",
   "pygments_lexer": "ipython3",
   "version": "3.7.0"
  }
 },
 "nbformat": 4,
 "nbformat_minor": 2
}
