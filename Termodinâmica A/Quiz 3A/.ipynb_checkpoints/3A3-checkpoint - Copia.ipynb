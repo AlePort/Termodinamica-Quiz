{
 "cells": [
  {
   "cell_type": "code",
   "execution_count": 7,
   "metadata": {},
   "outputs": [
    {
     "name": "stdout",
     "output_type": "stream",
     "text": [
      "V1: 2.20259\n",
      "m_dot: 68.81752\n",
      "V1_dot: 0.0692\n",
      "V2_dot: 2.45044\n",
      "E1: 553.57095\n",
      "E2: 18010.75068\n",
      "E_cin_1: 0.00243\n",
      "E_cin_2: 3.042\n"
     ]
    }
   ],
   "source": [
    "#Caldeira\n",
    "\n",
    "D = 200e-3 #m\n",
    "\n",
    "#Estado 1\n",
    "P1 = 8e3 #kPa\n",
    "T1 = 273 + 43 #K\n",
    "\n",
    "#Estado 2\n",
    "P2 = 7.35e3 #kPa\n",
    "T2 = 273 + 375 #K\n",
    "V2 = 78 #m/s\n",
    "\n",
    "from numpy import pi\n",
    "A = pi * ((D/2)**2)\n",
    "\n",
    "from CoolProp.State import State\n",
    "rho1 = State('water', {'P':P1, 'T':T1}).rho\n",
    "rho2 = State('water', {'P':P2, 'T':T2}).rho\n",
    "h1 = State('water', {'P':P1, 'T':T1}).h\n",
    "h2 = State('water', {'P':P2, 'T':T2}).h\n",
    "v1 = 1/rho1\n",
    "v2 = 1/rho2\n",
    "\n",
    "m_dot = (A*V2)/v2\n",
    "V1 = (m_dot*v1)/A\n",
    "V1_dot = A*V1\n",
    "V2_dot = A*V2\n",
    "\n",
    "from numpy import power\n",
    "#E1 = m_dot*(h1 + (power(V1,2)/2) + 9.81*D)\n",
    "#E2 = m_dot*(h2 + (power(V2,2)/2) + 9.81*D)\n",
    "E1 = m_dot * P1 * v1\n",
    "E2 = m_dot * P2 * v2\n",
    "E_cin_1 = (V1**2)/2000\n",
    "E_cin_2 = (V2**2)/2000\n",
    "\n",
    "\n",
    "print('V1:', round(V1, 5))\n",
    "print('m_dot:', round(m_dot, 5))\n",
    "print('V1_dot:', round(V1_dot, 5))\n",
    "print('V2_dot:', round(V2_dot, 5))\n",
    "print('E1:', round(E1, 5))\n",
    "print('E2:', round(E2, 5))\n",
    "print('E_cin_1:', round(E_cin_1, 5))\n",
    "print('E_cin_2:', round(E_cin_2,5))"
   ]
  },
  {
   "cell_type": "code",
   "execution_count": null,
   "metadata": {},
   "outputs": [],
   "source": []
  }
 ],
 "metadata": {
  "kernelspec": {
   "display_name": "Python 3",
   "language": "python",
   "name": "python3"
  },
  "language_info": {
   "codemirror_mode": {
    "name": "ipython",
    "version": 3
   },
   "file_extension": ".py",
   "mimetype": "text/x-python",
   "name": "python",
   "nbconvert_exporter": "python",
   "pygments_lexer": "ipython3",
   "version": "3.7.0"
  }
 },
 "nbformat": 4,
 "nbformat_minor": 2
}
