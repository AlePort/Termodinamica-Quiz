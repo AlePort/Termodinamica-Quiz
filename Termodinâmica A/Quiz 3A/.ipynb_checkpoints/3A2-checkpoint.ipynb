{
 "cells": [
  {
   "cell_type": "code",
   "execution_count": 3,
   "metadata": {},
   "outputs": [
    {
     "name": "stdout",
     "output_type": "stream",
     "text": [
      "V1: 4.14178\n",
      "m_dot: 186.02968\n",
      "V1_dot: 0.18737\n",
      "V2_dot: 5.42867\n"
     ]
    }
   ],
   "source": [
    "#Caldeira\n",
    "\n",
    "D = 240e-3 #m\n",
    "\n",
    "#Estado 1\n",
    "P1 = 8e3 #kPa\n",
    "T1 = 47 + 273 #K\n",
    "\n",
    "#Estado 2\n",
    "P2 = 7.05e3 #kPa\n",
    "T2 = 300 + 273 #K\n",
    "V2 = 120 #m/s\n",
    "\n",
    "\n",
    "from numpy import pi\n",
    "from CoolProp.State import State\n",
    "rho2 = State('water', {'P':P2, 'T':T2}).rho\n",
    "rho1 = State('water', {'P':P1, 'T':T1}).rho\n",
    "v2 = 1/rho2\n",
    "v1 = 1/rho1\n",
    "\n",
    "A = pi * ((D/2)**2)\n",
    "m_dot = (A*V2)/v2\n",
    "V1 = (m_dot*v1)/A\n",
    "V1_dot = A*V1\n",
    "V2_dot = A*V2\n",
    "\n",
    "\n",
    "print('V1:', round(V1, 5))\n",
    "print('m_dot:', round(m_dot, 5))\n",
    "print('V1_dot:', round(V1_dot, 5))\n",
    "print('V2_dot:', round(V2_dot, 5))\n"
   ]
  },
  {
   "cell_type": "code",
   "execution_count": null,
   "metadata": {},
   "outputs": [],
   "source": []
  }
 ],
 "metadata": {
  "kernelspec": {
   "display_name": "Python 3",
   "language": "python",
   "name": "python3"
  },
  "language_info": {
   "codemirror_mode": {
    "name": "ipython",
    "version": 3
   },
   "file_extension": ".py",
   "mimetype": "text/x-python",
   "name": "python",
   "nbconvert_exporter": "python",
   "pygments_lexer": "ipython3",
   "version": "3.7.0"
  }
 },
 "nbformat": 4,
 "nbformat_minor": 2
}
