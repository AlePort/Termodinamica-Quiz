{
 "cells": [
  {
   "cell_type": "code",
   "execution_count": 1,
   "metadata": {},
   "outputs": [
    {
     "name": "stdout",
     "output_type": "stream",
     "text": [
      "went kJ/kg: 2.4403\n",
      "Went kW: 73.209\n"
     ]
    }
   ],
   "source": [
    "#Bomba - água\n",
    "\n",
    "#Estado 1\n",
    "P1 = 200 #kPa\n",
    "h1 = 504.71 #kJ/kg\n",
    "v1 = 0.001061 #m³/kg\n",
    "\n",
    "#Estado 2\n",
    "P2 = 2500 #kPa\n",
    "#h2 = 961.87 #kJ/kg\n",
    "\n",
    "\n",
    "m = 30 #kg/s\n",
    "\n",
    "went = v1*(P2 - P1)\n",
    "Went = went*m\n",
    "\n",
    "print('went kJ/kg:', round(went,4))\n",
    "print('Went kW:', round(Went,4))\n"
   ]
  },
  {
   "cell_type": "code",
   "execution_count": null,
   "metadata": {},
   "outputs": [],
   "source": []
  }
 ],
 "metadata": {
  "kernelspec": {
   "display_name": "Python 3",
   "language": "python",
   "name": "python3"
  },
  "language_info": {
   "codemirror_mode": {
    "name": "ipython",
    "version": 3
   },
   "file_extension": ".py",
   "mimetype": "text/x-python",
   "name": "python",
   "nbconvert_exporter": "python",
   "pygments_lexer": "ipython3",
   "version": "3.7.0"
  }
 },
 "nbformat": 4,
 "nbformat_minor": 2
}
