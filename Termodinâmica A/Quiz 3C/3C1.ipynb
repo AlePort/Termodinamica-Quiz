{
 "cells": [
  {
   "cell_type": "code",
   "execution_count": null,
   "metadata": {},
   "outputs": [
    {
     "name": "stdout",
     "output_type": "stream",
     "text": [
      "P2: 1120.0\n",
      "went (kj/kg): 228.7584\n",
      "Went (kW): 36601.344\n"
     ]
    }
   ],
   "source": [
    "#Compressor - CO2\n",
    "\n",
    "#Estado 1\n",
    "P1 = 70 #kPa\n",
    "T1 = 273.15+30 #k\n",
    "\n",
    "#Estado 2\n",
    "T2 = 573.4\n",
    "\n",
    "M = 44.01 #kg/kmol\n",
    "R = 0.1889#kJ/kg·K\n",
    "cp = 0.846 #kJ/kg·K\n",
    "m = 160 #kg/s\n",
    "RP = 14 #Razao Pressao\n",
    "\n",
    "\n",
    "v1 = (R*T1)/P1\n",
    "\n",
    "P2 = (RP*R*T1)/v1\n",
    "went = cp*(T2 - T1)\n",
    "Went = went * m\n",
    "\n",
    "print('P2:', round(P2,4))\n",
    "print('went (kj/kg):', round(went,4))\n",
    "print('Went (kW):', round(Went,4))\n",
    "\n",
    "\n",
    "\n"
   ]
  },
  {
   "cell_type": "code",
   "execution_count": null,
   "metadata": {},
   "outputs": [],
   "source": []
  }
 ],
 "metadata": {
  "kernelspec": {
   "display_name": "Python 3",
   "language": "python",
   "name": "python3"
  },
  "language_info": {
   "codemirror_mode": {
    "name": "ipython",
    "version": 3
   },
   "file_extension": ".py",
   "mimetype": "text/x-python",
   "name": "python",
   "nbconvert_exporter": "python",
   "pygments_lexer": "ipython3",
   "version": "3.7.0"
  }
 },
 "nbformat": 4,
 "nbformat_minor": 2
}
