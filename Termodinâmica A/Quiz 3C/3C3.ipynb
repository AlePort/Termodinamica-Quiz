{
 "cells": [
  {
   "cell_type": "code",
   "execution_count": 1,
   "metadata": {},
   "outputs": [
    {
     "name": "stdout",
     "output_type": "stream",
     "text": [
      "went kJ/kg: 5.2398\n",
      "Went kW: 184.441\n"
     ]
    }
   ],
   "source": [
    "#Bomba - R134A\n",
    "\n",
    "#Estado 1\n",
    "P1 = 850 #kPa\n",
    "h1 = 98.6 #kJ/kg\n",
    "v1 = 0.000852 #m³/kg\n",
    "#Estado 2\n",
    "P2 = 7000 #kPa\n",
    "m = 35.2 #kg/s\n",
    "\n",
    "\n",
    "#h2 = h1 + v1*(P2 - P1)\n",
    "\n",
    "went = v1*(P2 - P1)\n",
    "\n",
    "Went = went * m\n",
    "\n",
    "print('went kJ/kg:', round(went, 4))\n",
    "print('Went kW:', round(Went, 4))\n"
   ]
  },
  {
   "cell_type": "code",
   "execution_count": null,
   "metadata": {},
   "outputs": [],
   "source": []
  }
 ],
 "metadata": {
  "kernelspec": {
   "display_name": "Python 3",
   "language": "python",
   "name": "python3"
  },
  "language_info": {
   "codemirror_mode": {
    "name": "ipython",
    "version": 3
   },
   "file_extension": ".py",
   "mimetype": "text/x-python",
   "name": "python",
   "nbconvert_exporter": "python",
   "pygments_lexer": "ipython3",
   "version": "3.7.0"
  }
 },
 "nbformat": 4,
 "nbformat_minor": 2
}
