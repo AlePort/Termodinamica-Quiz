{
 "cells": [
  {
   "cell_type": "markdown",
   "metadata": {},
   "source": [
    "Compressor"
   ]
  },
  {
   "cell_type": "code",
   "execution_count": 91,
   "metadata": {},
   "outputs": [
    {
     "name": "stdout",
     "output_type": "stream",
     "text": [
      "Potência requerida: 241.73846 kW\n",
      "Temperatura de saída: 361.32726 °C\n"
     ]
    }
   ],
   "source": [
    "P1 = 100 #kPa\n",
    "T1 = 25 #°C\n",
    "T1K = T1 + 273.15 #K\n",
    "P2 = 1000 #kPa\n",
    "v2 = 0.1828 #m^3/kg\n",
    "D2 = 1/v2\n",
    "im = 0.7\n",
    "\n",
    "from CoolProp.State import State\n",
    "h1 = State('Air', {'P':P1, 'T':T1K}).h\n",
    "h2 = State('Air', {'P':P2, 'D':D2}).h\n",
    "T2K = State('Air', {'P':P2, 'D':D2}).T\n",
    "\n",
    "iw = im * (h2 - h1)\n",
    "T2 = T2K - 273.15\n",
    "\n",
    "print(\"Potência requerida:\", round(iw, 5), 'kW')\n",
    "print(\"Temperatura de saída:\", round(T2, 5), '°C')"
   ]
  },
  {
   "cell_type": "markdown",
   "metadata": {},
   "source": [
    "Trocador de calor"
   ]
  },
  {
   "cell_type": "code",
   "execution_count": 112,
   "metadata": {},
   "outputs": [
    {
     "name": "stdout",
     "output_type": "stream",
     "text": [
      "cp1_w: 4.181314990770664\n",
      "cp2_w: 4.190067098984489\n",
      "cp1_a: 1.061728602033281\n",
      "cp2_a: 1.0214195073379133\n",
      "h3: 527.6931089438773\n",
      "cp_w: 4.185691044877577\n",
      "cp_a: 1.0415740546855972\n",
      "Q: 5.164974097400162\n",
      "T2: 361.3272637329386\n",
      "x: 233.0618109863509\n",
      "T3: 128.2654527465877\n",
      "imw: 0.8996822910977081\n"
     ]
    }
   ],
   "source": [
    "T1w = 25 #°C\n",
    "T2w = 70 #°C\n",
    "T1Kw = T1w + 273.15\n",
    "T2Kw = T2w + 273.15\n",
    "E = 80\n",
    "\n",
    "T3 = T2 - ((T2 - T2w) * E / 100)\n",
    "T3K = T3 + 273.15\n",
    "\n",
    "h3 = State('Air', {'T':T3K, 'P':P2}).h\n",
    "cp1_w = State('Water', {'T':T1Kw, 'P':101.325}).cp\n",
    "cp2_w = State('Water', {'T':T2Kw, 'P':101.325}).cp\n",
    "cp1_a = State('Air', {'T':T2K, 'P':P2}).cp\n",
    "cp2_a = State('Air', {'T':T3K, 'P':P2}).cp\n",
    "\n",
    "print('cp1_w:', cp1_w)\n",
    "print('cp2_w:', cp2_w)\n",
    "print('cp1_a:', cp1_a)\n",
    "print('cp2_a:', cp2_a)\n",
    "print('h3:', h3)\n",
    "\n",
    "Q = (imw * cp_w) / (im * cp_a)\n",
    "\n",
    "var_T = T2w - T1w\n",
    "cp_w = (cp1_w + cp2_w) / 2\n",
    "cp_a = (cp1_a + cp2_a) / 2\n",
    "print('cp_w:', cp_w)\n",
    "print('cp_a:', cp_a)\n",
    "print('Q:', Q)\n",
    "\n",
    "imw = im * (h2 - h3) / (cp_w * var_T)\n",
    "\n",
    "print('T2:', T2)\n",
    "print('x:', x)\n",
    "print('T3:', T3)\n",
    "print('imw:', imw)"
   ]
  },
  {
   "cell_type": "markdown",
   "metadata": {},
   "source": [
    "Turbina"
   ]
  },
  {
   "cell_type": "code",
   "execution_count": 78,
   "metadata": {},
   "outputs": [
    {
     "name": "stdout",
     "output_type": "stream",
     "text": [
      "T4: -47.209817797565336\n",
      "h4: 351.81731407589837\n",
      "iw4: 126.7663935423214\n"
     ]
    }
   ],
   "source": [
    "v4 = 0.6476 #m^3/kg\n",
    "\n",
    "D4 = 1/v4\n",
    "T4K = State('Air', {'D':D4, 'P':P1}).T\n",
    "T4 = T4K - 273.15\n",
    "\n",
    "print('T4:', T4)\n",
    "\n",
    "h4 = State('Air', {'D':D4, 'T':T4K}).h\n",
    "\n",
    "print('h4:', h4)\n",
    "\n",
    "iw4 = im * (h3 - h4)\n",
    "\n",
    "print('iw4:', iw4)"
   ]
  },
  {
   "cell_type": "code",
   "execution_count": null,
   "metadata": {},
   "outputs": [],
   "source": []
  }
 ],
 "metadata": {
  "kernelspec": {
   "display_name": "Python 3",
   "language": "python",
   "name": "python3"
  },
  "language_info": {
   "codemirror_mode": {
    "name": "ipython",
    "version": 3
   },
   "file_extension": ".py",
   "mimetype": "text/x-python",
   "name": "python",
   "nbconvert_exporter": "python",
   "pygments_lexer": "ipython3",
   "version": "3.6.5"
  }
 },
 "nbformat": 4,
 "nbformat_minor": 2
}
