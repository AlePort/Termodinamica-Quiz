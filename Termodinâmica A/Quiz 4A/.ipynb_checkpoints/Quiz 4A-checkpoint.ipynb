{
 "cells": [
  {
   "cell_type": "markdown",
   "metadata": {},
   "source": [
    "Questão 1"
   ]
  },
  {
   "cell_type": "code",
   "execution_count": 1,
   "metadata": {},
   "outputs": [
    {
     "name": "stdout",
     "output_type": "stream",
     "text": [
      "qh = 37210.2362\n"
     ]
    }
   ],
   "source": [
    "COP_bc = 1.961\n",
    "w_liq = 5.083 * 2544.5\n",
    "\n",
    "qh = COP_bc * w_liq\n",
    "\n",
    "print('qh =', round(qh,5))\n"
   ]
  },
  {
   "cell_type": "code",
   "execution_count": 2,
   "metadata": {},
   "outputs": [
    {
     "name": "stdout",
     "output_type": "stream",
     "text": [
      "ql = 24276.5427\n"
     ]
    }
   ],
   "source": [
    "COP_r = COP_bc - 1\n",
    "\n",
    "ql = COP_r * w_liq\n",
    "\n",
    "print('ql =', round(ql,5))"
   ]
  },
  {
   "cell_type": "markdown",
   "metadata": {},
   "source": [
    "Questão 2"
   ]
  },
  {
   "cell_type": "code",
   "execution_count": 12,
   "metadata": {},
   "outputs": [
    {
     "name": "stdout",
     "output_type": "stream",
     "text": [
      "E = 29.16214\n",
      "Pot = 2.91621\n",
      "custo = 16.13833\n",
      "qh = 441.03649\n"
     ]
    }
   ],
   "source": [
    "T1 = 41.59   #°C\n",
    "T2 = 15.66   #°C\n",
    "t_dias = 20\n",
    "t_min = 30\n",
    "COP_r = 3.201\n",
    "m = 900     #kg\n",
    "cv = 0.72  #kJ/kg°C\n",
    "cp = 1   #kJ/kg°C\n",
    "preco = 0.5534\n",
    "\n",
    "var = (T2 - T1) * (-1)\n",
    "ql = m * cv * var\n",
    "w_ent = (ql / COP_r) / 3600\n",
    "Pot = (ql / COP_r) / (t_min * 60)\n",
    "E = w_ent * t_dias\n",
    "custo = E * preco\n",
    "qh = ((ql + (w_ent * 3600))/1000) * 20\n",
    "\n",
    "print('E =', round(E,5))\n",
    "print('Pot =', round(Pot,5))\n",
    "print('custo =', round(custo,5))\n",
    "print('qh =', round(qh,5))"
   ]
  },
  {
   "cell_type": "code",
   "execution_count": null,
   "metadata": {},
   "outputs": [],
   "source": []
  }
 ],
 "metadata": {
  "kernelspec": {
   "display_name": "Python 3",
   "language": "python",
   "name": "python3"
  },
  "language_info": {
   "codemirror_mode": {
    "name": "ipython",
    "version": 3
   },
   "file_extension": ".py",
   "mimetype": "text/x-python",
   "name": "python",
   "nbconvert_exporter": "python",
   "pygments_lexer": "ipython3",
   "version": "3.7.0"
  }
 },
 "nbformat": 4,
 "nbformat_minor": 2
}
