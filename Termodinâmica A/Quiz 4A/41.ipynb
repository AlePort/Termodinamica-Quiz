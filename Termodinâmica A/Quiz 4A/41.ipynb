{
 "cells": [
  {
   "cell_type": "markdown",
   "metadata": {},
   "source": [
    "Compressor"
   ]
  },
  {
   "cell_type": "code",
   "execution_count": 114,
   "metadata": {},
   "outputs": [
    {
     "name": "stdout",
     "output_type": "stream",
     "text": [
      "Potência requerida: 412.07514 kW\n",
      "Temperatura de saída: 396.10091 °C\n"
     ]
    }
   ],
   "source": [
    "P1 = 90 #kPa\n",
    "T1 = 15 #°C\n",
    "T1K = T1 + 273.15 #K\n",
    "P2 = 1200 #kPa\n",
    "v2 = 0.1608 #m^3/kg\n",
    "D2 = 1/v2\n",
    "im = 1.05\n",
    "\n",
    "from CoolProp.State import State\n",
    "h1 = State('Air', {'P':P1, 'T':T1K}).h\n",
    "h2 = State('Air', {'P':P2, 'D':D2}).h\n",
    "T2K = State('Air', {'P':P2, 'D':D2}).T\n",
    "\n",
    "iw = im * (h2 - h1)\n",
    "T2 = T2K - 273.15\n",
    "\n",
    "print(\"Potência requerida:\", round(iw, 5), 'kW')\n",
    "print(\"Temperatura de saída:\", round(T2, 5), '°C')"
   ]
  },
  {
   "cell_type": "markdown",
   "metadata": {},
   "source": [
    "Trocador de calor"
   ]
  },
  {
   "cell_type": "code",
   "execution_count": 126,
   "metadata": {},
   "outputs": [
    {
     "name": "stdout",
     "output_type": "stream",
     "text": [
      "cp1_w: 4.188460622611614\n",
      "cp2_w: 4.196753264496664\n",
      "cp1_a: 1.070222416650053\n",
      "cp2_a: 1.0275093601735585\n",
      "h3: 575.2070280640606\n",
      "cp_w: 4.192606943554139\n",
      "cp_a: 1.0488658884118056\n",
      "Ch: 1.101309182832396 Cc 3.7420051890011714\n",
      "T2: 396.10091435170784\n",
      "x: 233.0618109863509\n",
      "T3: 174.83027430551238\n",
      "imw: 0.8925246843743034\n"
     ]
    }
   ],
   "source": [
    "T1w = 15 #°C\n",
    "T2w = 80 #°C\n",
    "T1Kw = T1w + 273.15\n",
    "T2Kw = T2w + 273.15\n",
    "E = 70\n",
    "\n",
    "T3 = T2 - ((T2 - T2w) * E / 100)\n",
    "T3K = T3 + 273.15\n",
    "\n",
    "h3 = State('Air', {'T':T3K, 'P':P2}).h\n",
    "cp1_w = State('Water', {'T':T1Kw, 'P':101.325}).cp\n",
    "cp2_w = State('Water', {'T':T2Kw, 'P':101.325}).cp\n",
    "cp1_a = State('Air', {'T':T2K, 'P':P2}).cp\n",
    "cp2_a = State('Air', {'T':T3K, 'P':P2}).cp\n",
    "\n",
    "print('cp1_w:', cp1_w)\n",
    "print('cp2_w:', cp2_w)\n",
    "print('cp1_a:', cp1_a)\n",
    "print('cp2_a:', cp2_a)\n",
    "print('h3:', h3)\n",
    "\n",
    "Ch = im * cp_a\n",
    "Cc = imw * cp_w\n",
    "\n",
    "var_T = T2w - T1w\n",
    "cp_w = (cp1_w + cp2_w) / 2\n",
    "cp_a = (cp1_a + cp2_a) / 2\n",
    "print('cp_w:', cp_w)\n",
    "print('cp_a:', cp_a)\n",
    "print('Ch:', Ch, 'Cc', Cc)\n",
    "\n",
    "imw = im * (h2 - h3) / (cp_w * var_T)\n",
    "\n",
    "print('T2:', T2)\n",
    "print('T3:', T3)\n",
    "print('imw:', imw)"
   ]
  },
  {
   "cell_type": "code",
   "execution_count": 127,
   "metadata": {},
   "outputs": [
    {
     "name": "stdout",
     "output_type": "stream",
     "text": [
      "mw: 1.71517\n"
     ]
    }
   ],
   "source": [
    "h4 = State('Air', {'D':D4, 'T':T4K}).h\n",
    "h2w = 335.02\n",
    "h1w = 62.982\n",
    "\n",
    "h3 = h4\n",
    "\n",
    "mw = im * (h2 - h3) / (h2w - h1w)\n",
    "\n",
    "print('mw:', round(mw, 5))"
   ]
  },
  {
   "cell_type": "markdown",
   "metadata": {},
   "source": [
    "Turbina"
   ]
  },
  {
   "cell_type": "code",
   "execution_count": 115,
   "metadata": {},
   "outputs": [
    {
     "name": "stdout",
     "output_type": "stream",
     "text": [
      "T4: -36.64151098367742\n",
      "h4: 362.4819854593852\n",
      "iw4: 173.47167965871668\n"
     ]
    }
   ],
   "source": [
    "v4 = 0.7535 #m^3/kg\n",
    "\n",
    "D4 = 1/v4\n",
    "T4K = State('Air', {'D':D4, 'P':P1}).T\n",
    "T4 = T4K - 273.15\n",
    "\n",
    "print('T4:', T4)\n",
    "\n",
    "h4 = State('Air', {'D':D4, 'T':T4K}).h\n",
    "\n",
    "print('h4:', h4)\n",
    "\n",
    "iw4 = im * (h3 - h4)\n",
    "\n",
    "print('iw4:', iw4)"
   ]
  },
  {
   "cell_type": "code",
   "execution_count": null,
   "metadata": {},
   "outputs": [],
   "source": []
  }
 ],
 "metadata": {
  "kernelspec": {
   "display_name": "Python 3",
   "language": "python",
   "name": "python3"
  },
  "language_info": {
   "codemirror_mode": {
    "name": "ipython",
    "version": 3
   },
   "file_extension": ".py",
   "mimetype": "text/x-python",
   "name": "python",
   "nbconvert_exporter": "python",
   "pygments_lexer": "ipython3",
   "version": "3.6.5"
  }
 },
 "nbformat": 4,
 "nbformat_minor": 2
}
