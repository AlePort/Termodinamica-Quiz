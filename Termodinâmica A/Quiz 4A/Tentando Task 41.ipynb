{
 "cells": [
  {
   "cell_type": "code",
   "execution_count": 1,
   "metadata": {
    "scrolled": false
   },
   "outputs": [],
   "source": [
    "from CoolProp.State import State\n",
    "x = 0\n",
    "fluxo_massa_ar = 0.525\n",
    "P1 = 95\n",
    "T1 = 30 + 273.15\n",
    "P2 = 700\n",
    "v2 = 0.2288\n",
    "coef = 0.75\n",
    "Ta = 30 + 273.15\n",
    "Tb = 70 + 273.15\n",
    "v4 = 0.7246\n",
    "P4 = P1"
   ]
  },
  {
   "cell_type": "code",
   "execution_count": 2,
   "metadata": {},
   "outputs": [],
   "source": [
    "#T2 = (P2 * 1000 * v2) / R\n",
    "T2 = State ('air', {'P':P2, 'D':1/v2}).T"
   ]
  },
  {
   "cell_type": "code",
   "execution_count": 3,
   "metadata": {},
   "outputs": [],
   "source": [
    "h1 = State ('air', {'P':P1, 'T':T1}).h\n",
    "h2 = State ('air', {'P':P2, 'D':1/v2}).h\n",
    "h_ar_Ta = State ('air', {'P':P2, 'T':Ta}).h\n",
    "\n",
    "q_max = h2 - h_ar_Ta"
   ]
  },
  {
   "cell_type": "code",
   "execution_count": 4,
   "metadata": {},
   "outputs": [],
   "source": [
    "q_real = coef * q_max"
   ]
  },
  {
   "cell_type": "code",
   "execution_count": 5,
   "metadata": {},
   "outputs": [],
   "source": [
    "h3 = h2 - q_real"
   ]
  },
  {
   "cell_type": "code",
   "execution_count": 6,
   "metadata": {},
   "outputs": [],
   "source": [
    "P4 = P1 \n",
    "h4 = State ('air', {'P':P4, 'D':1/v4}).h"
   ]
  },
  {
   "cell_type": "code",
   "execution_count": 7,
   "metadata": {},
   "outputs": [],
   "source": [
    "P3 = P2  \n",
    "T3 = State ('air', {'P':P3, 'H':h3}).T"
   ]
  },
  {
   "cell_type": "code",
   "execution_count": 8,
   "metadata": {},
   "outputs": [
    {
     "name": "stdout",
     "output_type": "stream",
     "text": [
      "I = 0.61099\n"
     ]
    }
   ],
   "source": [
    "hb = State ('water', {'T':Tb, 'Q':x}).h\n",
    "ha = State ('water', {'T':Ta, 'Q':x}).h\n",
    "\n",
    "fluxo_massa_h2o = fluxo_massa_ar * ((h2 - h3) / (hb - ha))  #kg/s\n",
    "print('I =', round(fluxo_massa_h2o,5))"
   ]
  },
  {
   "cell_type": "code",
   "execution_count": 9,
   "metadata": {},
   "outputs": [
    {
     "name": "stdout",
     "output_type": "stream",
     "text": [
      "A = 135.61716\n"
     ]
    }
   ],
   "source": [
    "Pot_compr = fluxo_massa_ar * (h2 - h1)  #kW\n",
    "print('A =', round(Pot_compr,5))"
   ]
  },
  {
   "cell_type": "code",
   "execution_count": 10,
   "metadata": {},
   "outputs": [
    {
     "name": "stdout",
     "output_type": "stream",
     "text": [
      "B = 66.68437\n"
     ]
    }
   ],
   "source": [
    "Pot_turb = fluxo_massa_ar * (h3 - h4)  #kW\n",
    "print('B =', round(Pot_turb,5))"
   ]
  },
  {
   "cell_type": "code",
   "execution_count": 11,
   "metadata": {},
   "outputs": [
    {
     "name": "stdout",
     "output_type": "stream",
     "text": [
      "C = 68.93279\n"
     ]
    }
   ],
   "source": [
    "Pot_liq = Pot_compr - Pot_turb    #kW\n",
    "print('C =', round(Pot_liq,5))"
   ]
  },
  {
   "cell_type": "code",
   "execution_count": 12,
   "metadata": {},
   "outputs": [
    {
     "name": "stdout",
     "output_type": "stream",
     "text": [
      "G= 102.23749\n"
     ]
    }
   ],
   "source": [
    "#Taxa_perda_calor = q_real * (1 - coef) * fluxo_massa_ar  #kW\n",
    "#Taxa_perda_calor = q_max - q_real\n",
    "#print('G =', round(Taxa_perda_calor,5))\n",
    "#taxa de perda de calor = Taxa de massa x var entalpia do ar \n",
    "Taxa_perda_calor = fluxo_massa_ar * (h2-h3)\n",
    "print('G=', round(Taxa_perda_calor,5))"
   ]
  },
  {
   "cell_type": "code",
   "execution_count": 13,
   "metadata": {
    "scrolled": true
   },
   "outputs": [
    {
     "name": "stdout",
     "output_type": "stream",
     "text": [
      "D = 283.40763\n"
     ]
    }
   ],
   "source": [
    "Resp_T2 = T2 - 273.15  #°C\n",
    "print('D =', round(Resp_T2,5))"
   ]
  },
  {
   "cell_type": "code",
   "execution_count": 14,
   "metadata": {},
   "outputs": [
    {
     "name": "stdout",
     "output_type": "stream",
     "text": [
      "E = 93.91292\n"
     ]
    }
   ],
   "source": [
    "Resp_T3 = T3 - 273.15  #°C\n",
    "print('E =', round(Resp_T3,5))"
   ]
  },
  {
   "cell_type": "code",
   "execution_count": 15,
   "metadata": {},
   "outputs": [
    {
     "name": "stdout",
     "output_type": "stream",
     "text": [
      "F = -33.08035\n"
     ]
    }
   ],
   "source": [
    "T4 = State ('air', {'P':P4, 'D':1/v4}).T\n",
    "\n",
    "Resp_T4 = T4 - 273.15   #°C\n",
    "print('F =', round(Resp_T4,5))"
   ]
  },
  {
   "cell_type": "code",
   "execution_count": 16,
   "metadata": {},
   "outputs": [
    {
     "name": "stdout",
     "output_type": "stream",
     "text": [
      "H = 33.30469\n"
     ]
    }
   ],
   "source": [
    "#Pot_refr_ar = q_real * fluxo_massa_ar  #kW\n",
    "Pot_refr_ar = (fluxo_massa_ar * (h2 - h3))+(fluxo_massa_ar * (h3 - h4))-(fluxo_massa_ar * (h2 - h1))\n",
    "#Pot_refr_ar = q_max - q_real\n",
    "print('H =', round(Pot_refr_ar,5))"
   ]
  },
  {
   "cell_type": "code",
   "execution_count": 17,
   "metadata": {},
   "outputs": [
    {
     "name": "stdout",
     "output_type": "stream",
     "text": [
      "J = 102.23749\n"
     ]
    }
   ],
   "source": [
    "#Pot_aquec_h2o = q_real * fluxo_massa_h2o #kW   \n",
    "Pot_aquec_h2o = fluxo_massa_h2o * (hb - ha)\n",
    "print('J =', round(Pot_aquec_h2o,5))\n",
    "#Pot_aquec_h2o = q_max - q_real\n",
    "#print('J =', round(Pot_aquec_h2o,5))"
   ]
  },
  {
   "cell_type": "code",
   "execution_count": null,
   "metadata": {},
   "outputs": [],
   "source": []
  },
  {
   "cell_type": "code",
   "execution_count": null,
   "metadata": {},
   "outputs": [],
   "source": []
  }
 ],
 "metadata": {
  "kernelspec": {
   "display_name": "Python 3",
   "language": "python",
   "name": "python3"
  },
  "language_info": {
   "codemirror_mode": {
    "name": "ipython",
    "version": 3
   },
   "file_extension": ".py",
   "mimetype": "text/x-python",
   "name": "python",
   "nbconvert_exporter": "python",
   "pygments_lexer": "ipython3",
   "version": "3.6.5"
  }
 },
 "nbformat": 4,
 "nbformat_minor": 2
}
