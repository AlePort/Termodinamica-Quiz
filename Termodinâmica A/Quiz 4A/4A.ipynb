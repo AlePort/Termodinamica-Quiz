{
 "cells": [
  {
   "cell_type": "markdown",
   "metadata": {},
   "source": [
    "Questão 1:"
   ]
  },
  {
   "cell_type": "code",
   "execution_count": 29,
   "metadata": {},
   "outputs": [
    {
     "name": "stdout",
     "output_type": "stream",
     "text": [
      "Taxa de aquecimento: 23960.84913 Btu/h\n",
      "Taxa de retirada de calor do meio ambiente: 11742.16013 Btu/h\n"
     ]
    }
   ],
   "source": [
    "COP = 1.961 #kJ/kJ\n",
    "Pot = 4.802 * 2544.5 #Btu\n",
    "\n",
    "# 1hp = 2544.5 Btu/h\n",
    "\n",
    "#===========================================================================================================================\n",
    "\n",
    "Tx_aq = COP * Pot\n",
    "Tx_ret = Tx_aq - Pot\n",
    "\n",
    "#===========================================================================================================================\n",
    "\n",
    "print('Taxa de aquecimento:', round(Tx_aq, 5), 'Btu/h')\n",
    "print('Taxa de retirada de calor do meio ambiente:', round(Tx_ret, 5), 'Btu/h')"
   ]
  },
  {
   "cell_type": "markdown",
   "metadata": {},
   "source": [
    "Questão 2:"
   ]
  },
  {
   "cell_type": "code",
   "execution_count": 30,
   "metadata": {
    "scrolled": true
   },
   "outputs": [
    {
     "name": "stdout",
     "output_type": "stream",
     "text": [
      "Energia consumida no mês: 14.93343 kWh\n",
      "Potência do sistema refrigerador: 1.49334 kW\n",
      "Custo mensal: R$ 8.26416\n",
      "Calor mensal rejeitado: 203.96674 MJ\n"
     ]
    }
   ],
   "source": [
    "T0 = 36.48 #°C\n",
    "T = 24.89 #°C\n",
    "COP_R = 2.794 #kJ/kJ\n",
    "t_d = 20 #dias\n",
    "t_m = 30 #minutos\n",
    "m = 900 #kg\n",
    "cv = 0.72 #kJ/kg.°C\n",
    "cp = 1 #kJ/kg.°C\n",
    "Custo = 0.5534 #R$/kWh\n",
    "\n",
    "#===========================================================================================================================\n",
    "\n",
    "varT = (T - T0)*(-1)\n",
    "q_b = m * cv * varT\n",
    "w = (q_b / COP_R) / 3600\n",
    "Pot = (q_b / COP_R) / (t_m * 60)\n",
    "E = w * t_d\n",
    "Gasto = E * Custo\n",
    "q_a = ((q_b + (w * 3600)) / 1000) * 20\n",
    "\n",
    "#===========================================================================================================================\n",
    "\n",
    "print('Energia consumida no mês:', round(E, 5), 'kWh')\n",
    "print('Potência do sistema refrigerador:', round(Pot, 5), 'kW')\n",
    "print('Custo mensal:', 'R$', round(Gasto, 5))\n",
    "print('Calor mensal rejeitado:', round(q_a, 5), 'MJ')"
   ]
  },
  {
   "cell_type": "code",
   "execution_count": null,
   "metadata": {},
   "outputs": [],
   "source": []
  }
 ],
 "metadata": {
  "kernelspec": {
   "display_name": "Python 3",
   "language": "python",
   "name": "python3"
  },
  "language_info": {
   "codemirror_mode": {
    "name": "ipython",
    "version": 3
   },
   "file_extension": ".py",
   "mimetype": "text/x-python",
   "name": "python",
   "nbconvert_exporter": "python",
   "pygments_lexer": "ipython3",
   "version": "3.6.5"
  }
 },
 "nbformat": 4,
 "nbformat_minor": 2
}
